{
 "cells": [
  {
   "cell_type": "markdown",
   "metadata": {},
   "source": [
    "# Tutorial de Big Data (UdeSA) 2025\n",
    "\n",
    "## Tutorial 9 \n",
    "\n",
    "### Ridge \n",
    "\n",
    "**Objetivo:**  \n",
    "Que se familiaricen con las técnicas de Regularización de Ridge \n",
    "\n",
    "### Temario:\n",
    "- Regularización con Ridge\n",
    "- Ejemplo con la base de hitters "
   ]
  },
  {
   "cell_type": "markdown",
   "metadata": {
    "_cell_guid": "e72a07c7-f17d-4652-92b0-d61fc59ff02f",
    "_uuid": "818b7297508f313f548091247ae5b5f76bd22167"
   },
   "source": [
    "### Modelos lineales regularizados con Ridge y Lasso\n",
    "\n",
    "Exploraremos brevemente el conjunto de datos \"Hitters\" y usaremos la librería de sklearn para ajustar modelos lineales regularizados por Ridge y Lasso (son las siglas en inglés para: operador de selección y contracción mínima absoluta) con el fin de predecir el salario de los jugadores de béisbol.\n",
    "\n",
    "Esta es una adaptación del Lab de Linear Models and Regularization Methods del libro \"Introduction to Statistical Learning with Applications in Python\" de Gareth James, Daniela Witten, Trevor Hastie, Robert Tibshirani y Jonathan Taylor. [Acá](https://islp.readthedocs.io/en/latest/labs/Ch06-varselect-lab.html) pueden encontrar más información"
   ]
  },
  {
   "cell_type": "markdown",
   "metadata": {},
   "source": [
    "##### Baseball data, 'Hitters'\n",
    "Datos de la Major League de Baseball Data en las temporadas 1986 y 1987.\n",
    "La base de Hitters tiene las siguientes variables:\n",
    "- AtBat: Number of times at bat in 1986\n",
    "- Hits: Number of hits in 1986\n",
    "- HmRun: Number of home runs in 1986\n",
    "- Runs: Number of runs in 1986\n",
    "- RBI: Number of runs batted in in 1986\n",
    "- Walks: Number of walks in 1986\n",
    "- Years: Number of years in the major leagues\n",
    "- CAtBat: Number of times at bat during his career\n",
    "- CHits: Number of hits during his career\n",
    "- CHmRun: Number of home runs during his career\n",
    "- CRuns: Number of runs during his career\n",
    "- CRBI: Number of runs batted in during his career\n",
    "- CWalks: Number of walks during his career\n",
    "- League: A factor with levels A and N indicating player’s league at the end of 1986\n",
    "- Division: A factor with levels E and W indicating player’s division at the end of 1986\n",
    "- PutOuts: Number of put outs in 1986\n",
    "- Assists: Number of assists in 1986\n",
    "- Errors: Number of errors in 1986\n",
    "- Salary: 1987 annual salary on opening day in thousands of dollars\n",
    "- NewLeague: A factor with levels A and N indicating player’s league at the beginning of 1987\n",
    "\n",
    "\n",
    "Nuestro objetivo será **predecir el salario** (regresión)"
   ]
  },
  {
   "cell_type": "markdown",
   "metadata": {},
   "source": [
    "### 1. Leer el conjunto de datos y explorar la estructura de datos "
   ]
  },
  {
   "cell_type": "code",
   "execution_count": 67,
   "metadata": {
    "_cell_guid": "99fc62bf-3829-4f27-b14a-daf03ea1fdbf",
    "_uuid": "081d6fd0996ffaae083d41c97a7cb8999ad596d1"
   },
   "outputs": [],
   "source": [
    "# Importamos los paquetes necesarios\n",
    "%matplotlib inline\n",
    "import pandas as pd\n",
    "import numpy as np\n",
    "import matplotlib.pyplot as plt\n",
    "from ISLP import load_data\n",
    "\n",
    "from sklearn.preprocessing import scale\n",
    "from sklearn.linear_model import Lasso, LassoCV, Ridge, RidgeCV, ElasticNet, ElasticNetCV\n",
    "from sklearn.model_selection import train_test_split\n",
    "from sklearn.metrics import mean_squared_error"
   ]
  },
  {
   "cell_type": "code",
   "execution_count": 69,
   "metadata": {},
   "outputs": [
    {
     "name": "stdout",
     "output_type": "stream",
     "text": [
      "<class 'pandas.core.frame.DataFrame'>\n",
      "RangeIndex: 322 entries, 0 to 321\n",
      "Data columns (total 20 columns):\n",
      " #   Column     Non-Null Count  Dtype   \n",
      "---  ------     --------------  -----   \n",
      " 0   AtBat      322 non-null    int64   \n",
      " 1   Hits       322 non-null    int64   \n",
      " 2   HmRun      322 non-null    int64   \n",
      " 3   Runs       322 non-null    int64   \n",
      " 4   RBI        322 non-null    int64   \n",
      " 5   Walks      322 non-null    int64   \n",
      " 6   Years      322 non-null    int64   \n",
      " 7   CAtBat     322 non-null    int64   \n",
      " 8   CHits      322 non-null    int64   \n",
      " 9   CHmRun     322 non-null    int64   \n",
      " 10  CRuns      322 non-null    int64   \n",
      " 11  CRBI       322 non-null    int64   \n",
      " 12  CWalks     322 non-null    int64   \n",
      " 13  League     322 non-null    category\n",
      " 14  Division   322 non-null    category\n",
      " 15  PutOuts    322 non-null    int64   \n",
      " 16  Assists    322 non-null    int64   \n",
      " 17  Errors     322 non-null    int64   \n",
      " 18  Salary     263 non-null    float64 \n",
      " 19  NewLeague  322 non-null    category\n",
      "dtypes: category(3), float64(1), int64(16)\n",
      "memory usage: 44.2 KB\n",
      "None\n",
      "Dimensión de la base: (322, 20) \n",
      "\n",
      "\n",
      "Missings en variable dependiente: 59\n"
     ]
    }
   ],
   "source": [
    "Hitters = load_data('Hitters')\n",
    "print(Hitters.info())\n",
    "print('Dimensión de la base:', Hitters.shape, '\\n')\n",
    "#Vemos los missing values en Y\n",
    "print('\\nMissings en variable dependiente:', np.isnan(Hitters['Salary']).sum())"
   ]
  },
  {
   "cell_type": "code",
   "execution_count": 71,
   "metadata": {},
   "outputs": [
    {
     "name": "stdout",
     "output_type": "stream",
     "text": [
      "\n",
      " Nueva dimensión de la base: (263, 20)\n"
     ]
    }
   ],
   "source": [
    "# Eliminamos missings en la variable dependiente\n",
    "Hitters = Hitters.dropna() \n",
    "print('\\n Nueva dimensión de la base:', Hitters.shape)"
   ]
  },
  {
   "cell_type": "code",
   "execution_count": null,
   "metadata": {},
   "outputs": [],
   "source": [
    "Hitters"
   ]
  },
  {
   "cell_type": "code",
   "execution_count": null,
   "metadata": {},
   "outputs": [],
   "source": [
    "Hitters.describe().T"
   ]
  },
  {
   "cell_type": "markdown",
   "metadata": {
    "_cell_guid": "4d04dd3c-dca5-43be-9ee1-9e50c22d2285",
    "_uuid": "449b84af4123b8cea09c8516ede63430650a1194"
   },
   "source": [
    "### 2. Preparar las X e Y que usaremos en el modelo\n",
    "\n",
    "Aquí seleccionamos las variables que utilizaremos en nuestro modelo y transformamos a dummies las que son strings"
   ]
  },
  {
   "cell_type": "code",
   "execution_count": 73,
   "metadata": {},
   "outputs": [],
   "source": [
    "y = Hitters.Salary"
   ]
  },
  {
   "cell_type": "code",
   "execution_count": 75,
   "metadata": {},
   "outputs": [
    {
     "name": "stdout",
     "output_type": "stream",
     "text": [
      "League\n",
      "A    139\n",
      "N    124\n",
      "Name: count, dtype: int64\n",
      "Division\n",
      "W    134\n",
      "E    129\n",
      "Name: count, dtype: int64\n",
      "NewLeague\n",
      "A    141\n",
      "N    122\n",
      "Name: count, dtype: int64\n"
     ]
    },
    {
     "data": {
      "text/html": [
       "<div>\n",
       "<style scoped>\n",
       "    .dataframe tbody tr th:only-of-type {\n",
       "        vertical-align: middle;\n",
       "    }\n",
       "\n",
       "    .dataframe tbody tr th {\n",
       "        vertical-align: top;\n",
       "    }\n",
       "\n",
       "    .dataframe thead th {\n",
       "        text-align: right;\n",
       "    }\n",
       "</style>\n",
       "<table border=\"1\" class=\"dataframe\">\n",
       "  <thead>\n",
       "    <tr style=\"text-align: right;\">\n",
       "      <th></th>\n",
       "      <th>League_N</th>\n",
       "      <th>Division_W</th>\n",
       "      <th>NewLeague_N</th>\n",
       "    </tr>\n",
       "  </thead>\n",
       "  <tbody>\n",
       "    <tr>\n",
       "      <th>1</th>\n",
       "      <td>True</td>\n",
       "      <td>True</td>\n",
       "      <td>True</td>\n",
       "    </tr>\n",
       "    <tr>\n",
       "      <th>2</th>\n",
       "      <td>False</td>\n",
       "      <td>True</td>\n",
       "      <td>False</td>\n",
       "    </tr>\n",
       "    <tr>\n",
       "      <th>3</th>\n",
       "      <td>True</td>\n",
       "      <td>False</td>\n",
       "      <td>True</td>\n",
       "    </tr>\n",
       "    <tr>\n",
       "      <th>4</th>\n",
       "      <td>True</td>\n",
       "      <td>False</td>\n",
       "      <td>True</td>\n",
       "    </tr>\n",
       "    <tr>\n",
       "      <th>5</th>\n",
       "      <td>False</td>\n",
       "      <td>True</td>\n",
       "      <td>False</td>\n",
       "    </tr>\n",
       "    <tr>\n",
       "      <th>...</th>\n",
       "      <td>...</td>\n",
       "      <td>...</td>\n",
       "      <td>...</td>\n",
       "    </tr>\n",
       "    <tr>\n",
       "      <th>317</th>\n",
       "      <td>True</td>\n",
       "      <td>False</td>\n",
       "      <td>True</td>\n",
       "    </tr>\n",
       "    <tr>\n",
       "      <th>318</th>\n",
       "      <td>False</td>\n",
       "      <td>False</td>\n",
       "      <td>False</td>\n",
       "    </tr>\n",
       "    <tr>\n",
       "      <th>319</th>\n",
       "      <td>False</td>\n",
       "      <td>True</td>\n",
       "      <td>False</td>\n",
       "    </tr>\n",
       "    <tr>\n",
       "      <th>320</th>\n",
       "      <td>False</td>\n",
       "      <td>False</td>\n",
       "      <td>False</td>\n",
       "    </tr>\n",
       "    <tr>\n",
       "      <th>321</th>\n",
       "      <td>False</td>\n",
       "      <td>True</td>\n",
       "      <td>False</td>\n",
       "    </tr>\n",
       "  </tbody>\n",
       "</table>\n",
       "<p>263 rows × 3 columns</p>\n",
       "</div>"
      ],
      "text/plain": [
       "     League_N  Division_W  NewLeague_N\n",
       "1        True        True         True\n",
       "2       False        True        False\n",
       "3        True       False         True\n",
       "4        True       False         True\n",
       "5       False        True        False\n",
       "..        ...         ...          ...\n",
       "317      True       False         True\n",
       "318     False       False        False\n",
       "319     False        True        False\n",
       "320     False       False        False\n",
       "321     False        True        False\n",
       "\n",
       "[263 rows x 3 columns]"
      ]
     },
     "execution_count": 75,
     "metadata": {},
     "output_type": "execute_result"
    }
   ],
   "source": [
    "print(Hitters.League.value_counts())\n",
    "print(Hitters.Division.value_counts())\n",
    "print(Hitters.NewLeague.value_counts())\n",
    "\n",
    "# Creamos variables dummies para las variables string\n",
    "dummies = pd.get_dummies(Hitters[['League', 'Division', 'NewLeague']], drop_first=True)\n",
    "dummies"
   ]
  },
  {
   "cell_type": "code",
   "execution_count": 77,
   "metadata": {
    "_cell_guid": "f3dc86b0-6170-4fc8-9ead-761fcd8374bc",
    "_uuid": "940ae403b30d3d5a109daa8e785bf2a72dfaeb5b",
    "scrolled": true
   },
   "outputs": [
    {
     "name": "stdout",
     "output_type": "stream",
     "text": [
      "<class 'pandas.core.frame.DataFrame'>\n",
      "Index: 263 entries, 1 to 321\n",
      "Data columns (total 19 columns):\n",
      " #   Column       Non-Null Count  Dtype  \n",
      "---  ------       --------------  -----  \n",
      " 0   AtBat        263 non-null    float64\n",
      " 1   Hits         263 non-null    float64\n",
      " 2   HmRun        263 non-null    float64\n",
      " 3   Runs         263 non-null    float64\n",
      " 4   RBI          263 non-null    float64\n",
      " 5   Walks        263 non-null    float64\n",
      " 6   Years        263 non-null    float64\n",
      " 7   CAtBat       263 non-null    float64\n",
      " 8   CHits        263 non-null    float64\n",
      " 9   CHmRun       263 non-null    float64\n",
      " 10  CRuns        263 non-null    float64\n",
      " 11  CRBI         263 non-null    float64\n",
      " 12  CWalks       263 non-null    float64\n",
      " 13  PutOuts      263 non-null    float64\n",
      " 14  Assists      263 non-null    float64\n",
      " 15  Errors       263 non-null    float64\n",
      " 16  League_N     263 non-null    bool   \n",
      " 17  Division_W   263 non-null    bool   \n",
      " 18  NewLeague_N  263 non-null    bool   \n",
      "dtypes: bool(3), float64(16)\n",
      "memory usage: 35.7 KB\n"
     ]
    }
   ],
   "source": [
    "# Definimos las variables que incluiremos en el set de X\n",
    "\n",
    "# Eliminamos salarios (porque es nuestra y) y las columnas de strings\n",
    "X_ = Hitters.drop(['Salary', 'League', 'Division', 'NewLeague'], axis=1).astype('float64')\n",
    "X = pd.concat([X_, dummies[['League_N', 'Division_W', 'NewLeague_N']]], axis=1)\n",
    "X.info()"
   ]
  },
  {
   "cell_type": "markdown",
   "metadata": {},
   "source": [
    "### 3. Dividimos la base en observaciones para entrenamiento y testeo\n",
    "\n",
    "Ahora dividimos la muestra en un conjunto de entrenamiento y un conjunto de prueba para luego estimar el error en el conjunto de prueba. "
   ]
  },
  {
   "cell_type": "code",
   "execution_count": 79,
   "metadata": {},
   "outputs": [
    {
     "name": "stdout",
     "output_type": "stream",
     "text": [
      "El conjunto de entrenamiento tiene 184 observaciones.\n",
      "El conjunto de test tiene 79 observaciones.\n"
     ]
    }
   ],
   "source": [
    "# Train test split\n",
    "X_train, X_test, y_train, y_test = train_test_split(X, y, test_size=0.3, random_state=100)\n",
    "\n",
    "# Revisamos cuantas observaciones quedaron para Test y cuantas para Entrenamiento.\n",
    "print(f'El conjunto de entrenamiento tiene {len(X_train)} observaciones.')\n",
    "print(f'El conjunto de test tiene {len(X_test)} observaciones.')"
   ]
  },
  {
   "cell_type": "markdown",
   "metadata": {
    "_cell_guid": "7f55cd39-e871-469e-9a17-830620d8b6b8",
    "_uuid": "1dc235f2b32d8f5e1ba03abdb0053f20182152ab"
   },
   "source": [
    "### 4. Regularización\n"
   ]
  },
  {
   "cell_type": "markdown",
   "metadata": {},
   "source": [
    "Les dejo la documentación para que puedan comparar:\n",
    "- Para clasificación ($Y$ categorica) recuerden que usamos la función [LogisticRegression()](https://scikit-learn.org/stable/modules/generated/sklearn.linear_model.LogisticRegression.html). Con dicha función, se puede hacer un ejercicio de clasificacion con amabas penalidades. Lasso usa una penalidad llamada l1 (que fuerza algunos coeficientes para que sean iguales a 0, seleccionando variables) y Ridge usa una penalidad llamada l2 (que hace que algunos coeficientes sean más cercanos a 0 pero sin llegar a 0)\n",
    "- Para regresión ($Y$ numerica)  usaremos la funciones [Ridge()](https://scikit-learn.org/stable/modules/generated/sklearn.linear_model.Ridge.html#sklearn.linear_model.Ridge) y [Lasso()](https://scikit-learn.org/stable/modules/generated/sklearn.linear_model.Lasso.html#sklearn.linear_model.Lasso) \n"
   ]
  },
  {
   "attachments": {
    "Ridge.JPG": {
     "image/jpeg": "[encoded data removed]"
    }
   },
   "cell_type": "markdown",
   "metadata": {},
   "source": [
    "![Ridge.JPG](attachment:Ridge.JPG)"
   ]
  },
  {
   "cell_type": "markdown",
   "metadata": {},
   "source": [
    "Usamos la funciones [Ridge()](https://scikit-learn.org/stable/modules/generated/sklearn.linear_model.Ridge.html) y [Lasso()](https://scikit-learn.org/stable/modules/generated/sklearn.linear_model.Lasso.html) para realizar distintas regresiones lineales regularizadas. Estas funciones tienen un argumento  **alfa** $\\alpha$ (es el **λ** pero con otro nombre) que **controla el peso de la regularización**."
   ]
  },
  {
   "cell_type": "code",
   "execution_count": 81,
   "metadata": {},
   "outputs": [
    {
     "data": {
      "text/html": [
       "<div>\n",
       "<style scoped>\n",
       "    .dataframe tbody tr th:only-of-type {\n",
       "        vertical-align: middle;\n",
       "    }\n",
       "\n",
       "    .dataframe tbody tr th {\n",
       "        vertical-align: top;\n",
       "    }\n",
       "\n",
       "    .dataframe thead th {\n",
       "        text-align: right;\n",
       "    }\n",
       "</style>\n",
       "<table border=\"1\" class=\"dataframe\">\n",
       "  <thead>\n",
       "    <tr style=\"text-align: right;\">\n",
       "      <th></th>\n",
       "      <th>count</th>\n",
       "      <th>mean</th>\n",
       "      <th>std</th>\n",
       "      <th>min</th>\n",
       "      <th>25%</th>\n",
       "      <th>50%</th>\n",
       "      <th>75%</th>\n",
       "      <th>max</th>\n",
       "    </tr>\n",
       "  </thead>\n",
       "  <tbody>\n",
       "    <tr>\n",
       "      <th>AtBat</th>\n",
       "      <td>184.0</td>\n",
       "      <td>401.880435</td>\n",
       "      <td>148.411946</td>\n",
       "      <td>19.0</td>\n",
       "      <td>279.00</td>\n",
       "      <td>414.0</td>\n",
       "      <td>521.25</td>\n",
       "      <td>687.0</td>\n",
       "    </tr>\n",
       "    <tr>\n",
       "      <th>Hits</th>\n",
       "      <td>184.0</td>\n",
       "      <td>107.668478</td>\n",
       "      <td>45.708675</td>\n",
       "      <td>1.0</td>\n",
       "      <td>70.00</td>\n",
       "      <td>102.5</td>\n",
       "      <td>144.25</td>\n",
       "      <td>238.0</td>\n",
       "    </tr>\n",
       "    <tr>\n",
       "      <th>HmRun</th>\n",
       "      <td>184.0</td>\n",
       "      <td>11.597826</td>\n",
       "      <td>8.687734</td>\n",
       "      <td>0.0</td>\n",
       "      <td>5.00</td>\n",
       "      <td>9.0</td>\n",
       "      <td>17.00</td>\n",
       "      <td>40.0</td>\n",
       "    </tr>\n",
       "    <tr>\n",
       "      <th>Runs</th>\n",
       "      <td>184.0</td>\n",
       "      <td>54.907609</td>\n",
       "      <td>26.261966</td>\n",
       "      <td>0.0</td>\n",
       "      <td>33.00</td>\n",
       "      <td>52.0</td>\n",
       "      <td>73.25</td>\n",
       "      <td>130.0</td>\n",
       "    </tr>\n",
       "    <tr>\n",
       "      <th>RBI</th>\n",
       "      <td>184.0</td>\n",
       "      <td>51.114130</td>\n",
       "      <td>25.464279</td>\n",
       "      <td>0.0</td>\n",
       "      <td>31.75</td>\n",
       "      <td>46.5</td>\n",
       "      <td>71.25</td>\n",
       "      <td>121.0</td>\n",
       "    </tr>\n",
       "    <tr>\n",
       "      <th>Walks</th>\n",
       "      <td>184.0</td>\n",
       "      <td>40.956522</td>\n",
       "      <td>21.521580</td>\n",
       "      <td>0.0</td>\n",
       "      <td>23.00</td>\n",
       "      <td>37.0</td>\n",
       "      <td>57.25</td>\n",
       "      <td>105.0</td>\n",
       "    </tr>\n",
       "    <tr>\n",
       "      <th>Years</th>\n",
       "      <td>184.0</td>\n",
       "      <td>7.250000</td>\n",
       "      <td>4.880260</td>\n",
       "      <td>1.0</td>\n",
       "      <td>4.00</td>\n",
       "      <td>6.0</td>\n",
       "      <td>11.00</td>\n",
       "      <td>24.0</td>\n",
       "    </tr>\n",
       "    <tr>\n",
       "      <th>CAtBat</th>\n",
       "      <td>184.0</td>\n",
       "      <td>2608.994565</td>\n",
       "      <td>2313.977494</td>\n",
       "      <td>19.0</td>\n",
       "      <td>783.75</td>\n",
       "      <td>1823.0</td>\n",
       "      <td>3953.50</td>\n",
       "      <td>14053.0</td>\n",
       "    </tr>\n",
       "    <tr>\n",
       "      <th>CHits</th>\n",
       "      <td>184.0</td>\n",
       "      <td>711.298913</td>\n",
       "      <td>657.274645</td>\n",
       "      <td>4.0</td>\n",
       "      <td>190.00</td>\n",
       "      <td>473.0</td>\n",
       "      <td>1075.00</td>\n",
       "      <td>4256.0</td>\n",
       "    </tr>\n",
       "    <tr>\n",
       "      <th>CHmRun</th>\n",
       "      <td>184.0</td>\n",
       "      <td>66.092391</td>\n",
       "      <td>76.969990</td>\n",
       "      <td>0.0</td>\n",
       "      <td>15.75</td>\n",
       "      <td>37.0</td>\n",
       "      <td>84.25</td>\n",
       "      <td>384.0</td>\n",
       "    </tr>\n",
       "    <tr>\n",
       "      <th>CRuns</th>\n",
       "      <td>184.0</td>\n",
       "      <td>357.434783</td>\n",
       "      <td>337.298454</td>\n",
       "      <td>2.0</td>\n",
       "      <td>102.00</td>\n",
       "      <td>232.0</td>\n",
       "      <td>520.75</td>\n",
       "      <td>2165.0</td>\n",
       "    </tr>\n",
       "    <tr>\n",
       "      <th>CRBI</th>\n",
       "      <td>184.0</td>\n",
       "      <td>318.663043</td>\n",
       "      <td>312.193816</td>\n",
       "      <td>3.0</td>\n",
       "      <td>92.50</td>\n",
       "      <td>205.5</td>\n",
       "      <td>428.50</td>\n",
       "      <td>1314.0</td>\n",
       "    </tr>\n",
       "    <tr>\n",
       "      <th>CWalks</th>\n",
       "      <td>184.0</td>\n",
       "      <td>253.179348</td>\n",
       "      <td>263.347047</td>\n",
       "      <td>1.0</td>\n",
       "      <td>71.00</td>\n",
       "      <td>159.5</td>\n",
       "      <td>319.50</td>\n",
       "      <td>1566.0</td>\n",
       "    </tr>\n",
       "    <tr>\n",
       "      <th>PutOuts</th>\n",
       "      <td>184.0</td>\n",
       "      <td>292.244565</td>\n",
       "      <td>281.399469</td>\n",
       "      <td>0.0</td>\n",
       "      <td>109.00</td>\n",
       "      <td>225.0</td>\n",
       "      <td>317.50</td>\n",
       "      <td>1377.0</td>\n",
       "    </tr>\n",
       "    <tr>\n",
       "      <th>Assists</th>\n",
       "      <td>184.0</td>\n",
       "      <td>113.663043</td>\n",
       "      <td>141.204559</td>\n",
       "      <td>0.0</td>\n",
       "      <td>7.00</td>\n",
       "      <td>45.5</td>\n",
       "      <td>174.75</td>\n",
       "      <td>492.0</td>\n",
       "    </tr>\n",
       "    <tr>\n",
       "      <th>Errors</th>\n",
       "      <td>184.0</td>\n",
       "      <td>8.516304</td>\n",
       "      <td>6.503446</td>\n",
       "      <td>0.0</td>\n",
       "      <td>3.00</td>\n",
       "      <td>7.0</td>\n",
       "      <td>13.00</td>\n",
       "      <td>32.0</td>\n",
       "    </tr>\n",
       "  </tbody>\n",
       "</table>\n",
       "</div>"
      ],
      "text/plain": [
       "         count         mean          std   min     25%     50%      75%  \\\n",
       "AtBat    184.0   401.880435   148.411946  19.0  279.00   414.0   521.25   \n",
       "Hits     184.0   107.668478    45.708675   1.0   70.00   102.5   144.25   \n",
       "HmRun    184.0    11.597826     8.687734   0.0    5.00     9.0    17.00   \n",
       "Runs     184.0    54.907609    26.261966   0.0   33.00    52.0    73.25   \n",
       "RBI      184.0    51.114130    25.464279   0.0   31.75    46.5    71.25   \n",
       "Walks    184.0    40.956522    21.521580   0.0   23.00    37.0    57.25   \n",
       "Years    184.0     7.250000     4.880260   1.0    4.00     6.0    11.00   \n",
       "CAtBat   184.0  2608.994565  2313.977494  19.0  783.75  1823.0  3953.50   \n",
       "CHits    184.0   711.298913   657.274645   4.0  190.00   473.0  1075.00   \n",
       "CHmRun   184.0    66.092391    76.969990   0.0   15.75    37.0    84.25   \n",
       "CRuns    184.0   357.434783   337.298454   2.0  102.00   232.0   520.75   \n",
       "CRBI     184.0   318.663043   312.193816   3.0   92.50   205.5   428.50   \n",
       "CWalks   184.0   253.179348   263.347047   1.0   71.00   159.5   319.50   \n",
       "PutOuts  184.0   292.244565   281.399469   0.0  109.00   225.0   317.50   \n",
       "Assists  184.0   113.663043   141.204559   0.0    7.00    45.5   174.75   \n",
       "Errors   184.0     8.516304     6.503446   0.0    3.00     7.0    13.00   \n",
       "\n",
       "             max  \n",
       "AtBat      687.0  \n",
       "Hits       238.0  \n",
       "HmRun       40.0  \n",
       "Runs       130.0  \n",
       "RBI        121.0  \n",
       "Walks      105.0  \n",
       "Years       24.0  \n",
       "CAtBat   14053.0  \n",
       "CHits     4256.0  \n",
       "CHmRun     384.0  \n",
       "CRuns     2165.0  \n",
       "CRBI      1314.0  \n",
       "CWalks    1566.0  \n",
       "PutOuts   1377.0  \n",
       "Assists    492.0  \n",
       "Errors      32.0  "
      ]
     },
     "execution_count": 81,
     "metadata": {},
     "output_type": "execute_result"
    }
   ],
   "source": [
    "from sklearn.preprocessing import StandardScaler\n",
    "\n",
    "# Estadisticas antes de estandarizar\n",
    "X_train.describe().T"
   ]
  },
  {
   "cell_type": "code",
   "execution_count": 83,
   "metadata": {
    "_cell_guid": "c2f313bc-c727-470a-b1a1-82525773b3c9",
    "_uuid": "99eda127ab220362ec4314d814f8b18f03dce7f1"
   },
   "outputs": [
    {
     "data": {
      "text/html": [
       "<div>\n",
       "<style scoped>\n",
       "    .dataframe tbody tr th:only-of-type {\n",
       "        vertical-align: middle;\n",
       "    }\n",
       "\n",
       "    .dataframe tbody tr th {\n",
       "        vertical-align: top;\n",
       "    }\n",
       "\n",
       "    .dataframe thead th {\n",
       "        text-align: right;\n",
       "    }\n",
       "</style>\n",
       "<table border=\"1\" class=\"dataframe\">\n",
       "  <thead>\n",
       "    <tr style=\"text-align: right;\">\n",
       "      <th></th>\n",
       "      <th>count</th>\n",
       "      <th>mean</th>\n",
       "      <th>std</th>\n",
       "      <th>min</th>\n",
       "      <th>25%</th>\n",
       "      <th>50%</th>\n",
       "      <th>75%</th>\n",
       "      <th>max</th>\n",
       "    </tr>\n",
       "  </thead>\n",
       "  <tbody>\n",
       "    <tr>\n",
       "      <th>AtBat</th>\n",
       "      <td>184.0</td>\n",
       "      <td>4.344351e-17</td>\n",
       "      <td>1.002729</td>\n",
       "      <td>-2.586888</td>\n",
       "      <td>-0.830228</td>\n",
       "      <td>0.081884</td>\n",
       "      <td>0.806507</td>\n",
       "      <td>1.926378</td>\n",
       "    </tr>\n",
       "    <tr>\n",
       "      <th>Hits</th>\n",
       "      <td>184.0</td>\n",
       "      <td>6.275174e-17</td>\n",
       "      <td>1.002729</td>\n",
       "      <td>-2.340027</td>\n",
       "      <td>-0.826348</td>\n",
       "      <td>-0.113383</td>\n",
       "      <td>0.802503</td>\n",
       "      <td>2.859132</td>\n",
       "    </tr>\n",
       "    <tr>\n",
       "      <th>HmRun</th>\n",
       "      <td>184.0</td>\n",
       "      <td>1.930823e-17</td>\n",
       "      <td>1.002729</td>\n",
       "      <td>-1.338608</td>\n",
       "      <td>-0.761514</td>\n",
       "      <td>-0.299838</td>\n",
       "      <td>0.623513</td>\n",
       "      <td>3.278147</td>\n",
       "    </tr>\n",
       "    <tr>\n",
       "      <th>Runs</th>\n",
       "      <td>184.0</td>\n",
       "      <td>7.240585e-17</td>\n",
       "      <td>1.002729</td>\n",
       "      <td>-2.096470</td>\n",
       "      <td>-0.836471</td>\n",
       "      <td>-0.111018</td>\n",
       "      <td>0.700345</td>\n",
       "      <td>2.867161</td>\n",
       "    </tr>\n",
       "    <tr>\n",
       "      <th>RBI</th>\n",
       "      <td>184.0</td>\n",
       "      <td>-4.827057e-17</td>\n",
       "      <td>1.002729</td>\n",
       "      <td>-2.012764</td>\n",
       "      <td>-0.762518</td>\n",
       "      <td>-0.181695</td>\n",
       "      <td>0.792907</td>\n",
       "      <td>2.751955</td>\n",
       "    </tr>\n",
       "    <tr>\n",
       "      <th>Walks</th>\n",
       "      <td>184.0</td>\n",
       "      <td>-1.080054e-16</td>\n",
       "      <td>1.002729</td>\n",
       "      <td>-1.908237</td>\n",
       "      <td>-0.836626</td>\n",
       "      <td>-0.184341</td>\n",
       "      <td>0.759142</td>\n",
       "      <td>2.983899</td>\n",
       "    </tr>\n",
       "    <tr>\n",
       "      <th>Years</th>\n",
       "      <td>184.0</td>\n",
       "      <td>9.654113e-18</td>\n",
       "      <td>1.002729</td>\n",
       "      <td>-1.284164</td>\n",
       "      <td>-0.667765</td>\n",
       "      <td>-0.256833</td>\n",
       "      <td>0.770498</td>\n",
       "      <td>3.441559</td>\n",
       "    </tr>\n",
       "    <tr>\n",
       "      <th>CAtBat</th>\n",
       "      <td>184.0</td>\n",
       "      <td>-7.240585e-17</td>\n",
       "      <td>1.002729</td>\n",
       "      <td>-1.122337</td>\n",
       "      <td>-0.790943</td>\n",
       "      <td>-0.340599</td>\n",
       "      <td>0.582622</td>\n",
       "      <td>4.959093</td>\n",
       "    </tr>\n",
       "    <tr>\n",
       "      <th>CHits</th>\n",
       "      <td>184.0</td>\n",
       "      <td>2.413528e-17</td>\n",
       "      <td>1.002729</td>\n",
       "      <td>-1.079045</td>\n",
       "      <td>-0.795286</td>\n",
       "      <td>-0.363545</td>\n",
       "      <td>0.554857</td>\n",
       "      <td>5.407744</td>\n",
       "    </tr>\n",
       "    <tr>\n",
       "      <th>CHmRun</th>\n",
       "      <td>184.0</td>\n",
       "      <td>-7.240585e-18</td>\n",
       "      <td>1.002729</td>\n",
       "      <td>-0.861020</td>\n",
       "      <td>-0.655837</td>\n",
       "      <td>-0.379002</td>\n",
       "      <td>0.236549</td>\n",
       "      <td>4.141550</td>\n",
       "    </tr>\n",
       "    <tr>\n",
       "      <th>CRuns</th>\n",
       "      <td>184.0</td>\n",
       "      <td>6.275174e-17</td>\n",
       "      <td>1.002729</td>\n",
       "      <td>-1.056645</td>\n",
       "      <td>-0.759362</td>\n",
       "      <td>-0.372895</td>\n",
       "      <td>0.485507</td>\n",
       "      <td>5.373571</td>\n",
       "    </tr>\n",
       "    <tr>\n",
       "      <th>CRBI</th>\n",
       "      <td>184.0</td>\n",
       "      <td>-9.654113e-18</td>\n",
       "      <td>1.002729</td>\n",
       "      <td>-1.013871</td>\n",
       "      <td>-0.726408</td>\n",
       "      <td>-0.363466</td>\n",
       "      <td>0.352783</td>\n",
       "      <td>3.196901</td>\n",
       "    </tr>\n",
       "    <tr>\n",
       "      <th>CWalks</th>\n",
       "      <td>184.0</td>\n",
       "      <td>-5.309762e-17</td>\n",
       "      <td>1.002729</td>\n",
       "      <td>-0.960206</td>\n",
       "      <td>-0.693672</td>\n",
       "      <td>-0.356696</td>\n",
       "      <td>0.252525</td>\n",
       "      <td>4.998737</td>\n",
       "    </tr>\n",
       "    <tr>\n",
       "      <th>PutOuts</th>\n",
       "      <td>184.0</td>\n",
       "      <td>-1.930823e-17</td>\n",
       "      <td>1.002729</td>\n",
       "      <td>-1.041374</td>\n",
       "      <td>-0.652967</td>\n",
       "      <td>-0.239617</td>\n",
       "      <td>0.089994</td>\n",
       "      <td>3.865378</td>\n",
       "    </tr>\n",
       "    <tr>\n",
       "      <th>Assists</th>\n",
       "      <td>184.0</td>\n",
       "      <td>-4.344351e-17</td>\n",
       "      <td>1.002729</td>\n",
       "      <td>-0.807149</td>\n",
       "      <td>-0.757441</td>\n",
       "      <td>-0.484043</td>\n",
       "      <td>0.433794</td>\n",
       "      <td>2.686664</td>\n",
       "    </tr>\n",
       "    <tr>\n",
       "      <th>Errors</th>\n",
       "      <td>184.0</td>\n",
       "      <td>-1.303305e-16</td>\n",
       "      <td>1.002729</td>\n",
       "      <td>-1.313079</td>\n",
       "      <td>-0.850527</td>\n",
       "      <td>-0.233790</td>\n",
       "      <td>0.691315</td>\n",
       "      <td>3.620814</td>\n",
       "    </tr>\n",
       "    <tr>\n",
       "      <th>League_N</th>\n",
       "      <td>184.0</td>\n",
       "      <td>-4.827057e-18</td>\n",
       "      <td>1.002729</td>\n",
       "      <td>-0.848308</td>\n",
       "      <td>-0.848308</td>\n",
       "      <td>-0.848308</td>\n",
       "      <td>1.178817</td>\n",
       "      <td>1.178817</td>\n",
       "    </tr>\n",
       "    <tr>\n",
       "      <th>Division_W</th>\n",
       "      <td>184.0</td>\n",
       "      <td>1.086088e-16</td>\n",
       "      <td>1.002729</td>\n",
       "      <td>-0.978492</td>\n",
       "      <td>-0.978492</td>\n",
       "      <td>-0.978492</td>\n",
       "      <td>1.021981</td>\n",
       "      <td>1.021981</td>\n",
       "    </tr>\n",
       "    <tr>\n",
       "      <th>NewLeague_N</th>\n",
       "      <td>184.0</td>\n",
       "      <td>1.641199e-16</td>\n",
       "      <td>1.002729</td>\n",
       "      <td>-0.829502</td>\n",
       "      <td>-0.829502</td>\n",
       "      <td>-0.829502</td>\n",
       "      <td>1.205543</td>\n",
       "      <td>1.205543</td>\n",
       "    </tr>\n",
       "  </tbody>\n",
       "</table>\n",
       "</div>"
      ],
      "text/plain": [
       "             count          mean       std       min       25%       50%  \\\n",
       "AtBat        184.0  4.344351e-17  1.002729 -2.586888 -0.830228  0.081884   \n",
       "Hits         184.0  6.275174e-17  1.002729 -2.340027 -0.826348 -0.113383   \n",
       "HmRun        184.0  1.930823e-17  1.002729 -1.338608 -0.761514 -0.299838   \n",
       "Runs         184.0  7.240585e-17  1.002729 -2.096470 -0.836471 -0.111018   \n",
       "RBI          184.0 -4.827057e-17  1.002729 -2.012764 -0.762518 -0.181695   \n",
       "Walks        184.0 -1.080054e-16  1.002729 -1.908237 -0.836626 -0.184341   \n",
       "Years        184.0  9.654113e-18  1.002729 -1.284164 -0.667765 -0.256833   \n",
       "CAtBat       184.0 -7.240585e-17  1.002729 -1.122337 -0.790943 -0.340599   \n",
       "CHits        184.0  2.413528e-17  1.002729 -1.079045 -0.795286 -0.363545   \n",
       "CHmRun       184.0 -7.240585e-18  1.002729 -0.861020 -0.655837 -0.379002   \n",
       "CRuns        184.0  6.275174e-17  1.002729 -1.056645 -0.759362 -0.372895   \n",
       "CRBI         184.0 -9.654113e-18  1.002729 -1.013871 -0.726408 -0.363466   \n",
       "CWalks       184.0 -5.309762e-17  1.002729 -0.960206 -0.693672 -0.356696   \n",
       "PutOuts      184.0 -1.930823e-17  1.002729 -1.041374 -0.652967 -0.239617   \n",
       "Assists      184.0 -4.344351e-17  1.002729 -0.807149 -0.757441 -0.484043   \n",
       "Errors       184.0 -1.303305e-16  1.002729 -1.313079 -0.850527 -0.233790   \n",
       "League_N     184.0 -4.827057e-18  1.002729 -0.848308 -0.848308 -0.848308   \n",
       "Division_W   184.0  1.086088e-16  1.002729 -0.978492 -0.978492 -0.978492   \n",
       "NewLeague_N  184.0  1.641199e-16  1.002729 -0.829502 -0.829502 -0.829502   \n",
       "\n",
       "                  75%       max  \n",
       "AtBat        0.806507  1.926378  \n",
       "Hits         0.802503  2.859132  \n",
       "HmRun        0.623513  3.278147  \n",
       "Runs         0.700345  2.867161  \n",
       "RBI          0.792907  2.751955  \n",
       "Walks        0.759142  2.983899  \n",
       "Years        0.770498  3.441559  \n",
       "CAtBat       0.582622  4.959093  \n",
       "CHits        0.554857  5.407744  \n",
       "CHmRun       0.236549  4.141550  \n",
       "CRuns        0.485507  5.373571  \n",
       "CRBI         0.352783  3.196901  \n",
       "CWalks       0.252525  4.998737  \n",
       "PutOuts      0.089994  3.865378  \n",
       "Assists      0.433794  2.686664  \n",
       "Errors       0.691315  3.620814  \n",
       "League_N     1.178817  1.178817  \n",
       "Division_W   1.021981  1.021981  \n",
       "NewLeague_N  1.205543  1.205543  "
      ]
     },
     "execution_count": 83,
     "metadata": {},
     "output_type": "execute_result"
    }
   ],
   "source": [
    "# Iniciamos el Standard Scaler\n",
    "sc = StandardScaler()\n",
    "\n",
    "# Estandarizamos las observaciones de entrenamiento\n",
    "X_train_transformed = pd.DataFrame(sc.fit_transform(X_train), index=X_train.index, columns=X_train.columns)\n",
    "\n",
    "# Estandarizamos las observaciones de test\n",
    "X_test_transformed = pd.DataFrame(sc.transform(X_test), index=X_test.index, columns=X_test.columns)\n",
    "\n",
    "# Estadisticas de los predictores luego de estandarizar\n",
    "X_train_transformed.describe().T"
   ]
  },
  {
   "cell_type": "markdown",
   "metadata": {
    "_uuid": "adb4f7f41adf5f02709b13f3b0f16be9921004a8"
   },
   "source": [
    "### 5. Regresión con Ridge"
   ]
  },
  {
   "cell_type": "markdown",
   "metadata": {},
   "source": [
    "Empecemos con un modelo sin shrinkage $\\alpha =0$:"
   ]
  },
  {
   "cell_type": "code",
   "execution_count": 86,
   "metadata": {},
   "outputs": [
    {
     "name": "stdout",
     "output_type": "stream",
     "text": [
      "Alpha/lambda: 0\n",
      "Mean Squared Error de testeo (MSE test):  123843.3\n",
      "Coeficientes del modelo:\n",
      "AtBat         -382.47\n",
      "Hits           434.31\n",
      "HmRun           44.73\n",
      "Runs           -56.32\n",
      "RBI            -92.36\n",
      "Walks          148.75\n",
      "Years            7.55\n",
      "CAtBat        -665.74\n",
      "CHits          380.59\n",
      "CHmRun          77.89\n",
      "CRuns          431.65\n",
      "CRBI           199.68\n",
      "CWalks        -225.06\n",
      "PutOuts         77.55\n",
      "Assists         61.50\n",
      "Errors         -18.57\n",
      "League_N         4.34\n",
      "Division_W     -46.31\n",
      "NewLeague_N    -29.25\n",
      "dtype: float64\n"
     ]
    }
   ],
   "source": [
    "alpha = 0\n",
    "print(\"Alpha/lambda:\", alpha)\n",
    "\n",
    "ridge_a0 = Ridge(alpha = alpha)\n",
    "ridge_a0.fit(X_train_transformed, y_train)             \n",
    "pred_a0 = ridge_a0.predict(X_test_transformed)\n",
    "mse_a0 = mean_squared_error(y_test, pred_a0)\n",
    "\n",
    "print(\"Mean Squared Error de testeo (MSE test): \", round(mse_a0,2))   \n",
    "print(\"Coeficientes del modelo:\")\n",
    "print(pd.Series(ridge_a0.coef_, index = X_train_transformed.columns).round(2)) "
   ]
  },
  {
   "cell_type": "markdown",
   "metadata": {},
   "source": [
    "El $MSE_{test}$ con $\\alpha=0$ es: 123,843.3 "
   ]
  },
  {
   "cell_type": "markdown",
   "metadata": {},
   "source": [
    "Probemos elegir arbitrariamente el alpha usando $\\alpha=1$:"
   ]
  },
  {
   "cell_type": "code",
   "execution_count": 88,
   "metadata": {},
   "outputs": [
    {
     "name": "stdout",
     "output_type": "stream",
     "text": [
      "Alpha: 1\n",
      "Mean Squared Error de testeo (MSE test):  117196.67\n",
      "Coeficientes del modelo:\n",
      "AtBat         -351.31\n",
      "Hits           379.94\n",
      "HmRun           24.94\n",
      "Runs           -21.88\n",
      "RBI            -69.23\n",
      "Walks          133.91\n",
      "Years          -46.02\n",
      "CAtBat        -248.14\n",
      "CHits          176.13\n",
      "CHmRun          79.97\n",
      "CRuns          282.11\n",
      "CRBI           154.54\n",
      "CWalks        -197.35\n",
      "PutOuts         76.87\n",
      "Assists         51.16\n",
      "Errors         -21.88\n",
      "League_N         3.23\n",
      "Division_W     -52.45\n",
      "NewLeague_N    -29.05\n",
      "dtype: float64\n"
     ]
    }
   ],
   "source": [
    "alpha = 1\n",
    "print(\"Alpha:\", alpha)\n",
    "\n",
    "ridge_a1 = Ridge(alpha = alpha)\n",
    "ridge_a1.fit(X_train_transformed, y_train)             \n",
    "pred_a1 = ridge_a1.predict(X_test_transformed)\n",
    "ecm_a1 = mean_squared_error(y_test, pred_a1)\n",
    "\n",
    "print(\"Mean Squared Error de testeo (MSE test): \", round(ecm_a1,2))   \n",
    "print(\"Coeficientes del modelo:\")\n",
    "print(pd.Series(ridge_a1.coef_, index = X_train_transformed.columns).round(2)) "
   ]
  },
  {
   "cell_type": "markdown",
   "metadata": {},
   "source": [
    "El $MSE_{test}$ con $\\alpha = 1$ es 117,196.67\n",
    "\n",
    "Ahora probemos que pasa con un alpha muy grande, por ej. $\\alpha=10^{10}$:"
   ]
  },
  {
   "cell_type": "code",
   "execution_count": 96,
   "metadata": {},
   "outputs": [
    {
     "name": "stdout",
     "output_type": "stream",
     "text": [
      "Alpha: 10000000000\n",
      "Mean Squared Error de testeo (MSE test):  238884.0557421372\n",
      "Coeficientes del modelo:\n",
      "AtBat          0.0\n",
      "Hits           0.0\n",
      "HmRun          0.0\n",
      "Runs           0.0\n",
      "RBI            0.0\n",
      "Walks          0.0\n",
      "Years          0.0\n",
      "CAtBat         0.0\n",
      "CHits          0.0\n",
      "CHmRun         0.0\n",
      "CRuns          0.0\n",
      "CRBI           0.0\n",
      "CWalks         0.0\n",
      "PutOuts        0.0\n",
      "Assists        0.0\n",
      "Errors         0.0\n",
      "League_N      -0.0\n",
      "Division_W    -0.0\n",
      "NewLeague_N   -0.0\n",
      "dtype: float64\n"
     ]
    }
   ],
   "source": [
    "alpha = 10**10\n",
    "print(\"Alpha:\", alpha)\n",
    "\n",
    "ridge_a10b = Ridge(alpha)\n",
    "ridge_a10b.fit(X_train_transformed, y_train)             \n",
    "pred_a10b = ridge_a10b.predict(X_test_transformed)  \n",
    "ecm_a10b = mean_squared_error(y_test, pred_a10b)\n",
    "\n",
    "print(\"Mean Squared Error de testeo (MSE test): \", ecm_a10b)   \n",
    "print(\"Coeficientes del modelo:\")\n",
    "print(pd.Series(ridge_a10b.coef_, index = X_train_transformed.columns).round(2)) "
   ]
  },
  {
   "cell_type": "code",
   "execution_count": 98,
   "metadata": {},
   "outputs": [
    {
     "data": {
      "text/plain": [
       "array([521.60922299, 521.60921214, 521.60928972, 521.60924747,\n",
       "       521.60929337, 521.60923264, 521.60928753, 521.60924089,\n",
       "       521.60935134, 521.60928276, 521.60933159, 521.60926766,\n",
       "       521.609209  , 521.60927102, 521.60927429, 521.60923565,\n",
       "       521.60926658, 521.60922706, 521.60925071, 521.6092239 ,\n",
       "       521.60928629, 521.60932688, 521.60923512, 521.60921346,\n",
       "       521.60925008, 521.60925507, 521.60931753, 521.60926812,\n",
       "       521.6092408 , 521.6092861 , 521.60924771, 521.60930644,\n",
       "       521.60920973, 521.60926984, 521.60922143, 521.60923525,\n",
       "       521.60925183, 521.60922334, 521.60928677, 521.60926998,\n",
       "       521.6092664 , 521.60922507, 521.60923904, 521.60923188,\n",
       "       521.60921642, 521.60920502, 521.60929058, 521.60925141,\n",
       "       521.60927029, 521.60933294, 521.60924723, 521.60923508,\n",
       "       521.60923943, 521.60923686, 521.60928321, 521.6092765 ,\n",
       "       521.60924252, 521.60923425, 521.60925691, 521.60925041,\n",
       "       521.60925794, 521.60925727, 521.6092597 , 521.60929494,\n",
       "       521.60936997, 521.60925164, 521.60923961, 521.60922219,\n",
       "       521.60922968, 521.60931253, 521.60926425, 521.60920913,\n",
       "       521.60922161, 521.60923086, 521.60934392, 521.60922716,\n",
       "       521.60921864, 521.60924448, 521.60920641])"
      ]
     },
     "execution_count": 98,
     "metadata": {},
     "output_type": "execute_result"
    }
   ],
   "source": [
    "pred_a10b"
   ]
  },
  {
   "cell_type": "markdown",
   "metadata": {},
   "source": [
    "El $MSE_{test}$ con $\\alpha=10^{10}$ es 238,884.06\n",
    "\n",
    "Esta gran penalización reduce los coeficientes en un grado muy grande, esencialmente reduciéndose a un modelo que contiene solo el intercepto. Esta contracción excesiva hace que el modelo sea demasiado sesgado, lo que resulta en un ECM más alto."
   ]
  },
  {
   "cell_type": "markdown",
   "metadata": {
    "_cell_guid": "d873bfe1-10fe-4de7-847a-71f8d9b8eb9a",
    "_uuid": "60a9b6feca173d8a201f4b36bf97999e28ae48c5"
   },
   "source": [
    "#### Plot Ridge: coeficientes según parámetros de ajuste alfa\n",
    "\n",
    "Generaremos una matriz de valores alfa que van desde muy grandes a muy pequeños, esencialmente cubriendo la gama completa de escenarios desde el modelo nulo que contiene solo la intersección, hasta el ajuste de mínimos cuadrados.\n",
    "\n",
    "Estandarizamos los datos y ajustamos los modelos Lasso para cada valor de alfa.\n",
    "\n",
    "Ahora veamos la relación entre alfa y los coeficientes, una línea para cada característica."
   ]
  },
  {
   "cell_type": "code",
   "execution_count": 100,
   "metadata": {
    "_cell_guid": "e6927dde-9413-423c-bddb-4cb05c19c912",
    "_uuid": "b4f1fde76662793c2b042dbcc0bb9ddbc453e9a0"
   },
   "outputs": [
    {
     "data": {
      "text/plain": [
       "array([500000.        , 343324.42250215, 235743.31817287, 161872.87714088,\n",
       "       111149.82412631,  76320.89835876,  52405.65670773,  35984.28365006,\n",
       "        24708.56680662,  16966.10885948,  11649.75905258,   7999.29359803,\n",
       "         5492.70570994,   3771.56003168,   2589.73733962,   1778.24015311,\n",
       "         1221.02654727,    838.41646841,    575.69769966,    395.30216055,\n",
       "          271.43377197,    186.37968602,    127.97739613,     87.87553124,\n",
       "           60.33963203,     41.43213864,     28.44933015,     19.53469969,\n",
       "           13.41347898,      9.21034985,      6.32427608,      4.34255687,\n",
       "            2.98181166,      2.04745753,      1.40588435,      0.96534886,\n",
       "            0.66285568,      0.45514909,      0.3125276 ,      0.21459671,\n",
       "            0.14735259,      0.10117948,      0.06947477,      0.04770477,\n",
       "            0.03275643,      0.02249216,      0.01544422,      0.01060475,\n",
       "            0.00728174,      0.005     ])"
      ]
     },
     "execution_count": 100,
     "metadata": {},
     "output_type": "execute_result"
    }
   ],
   "source": [
    "# Matriz de valores de alfa\n",
    "alphas = 10**np.linspace(6,-2,50)*0.5\n",
    "np.set_printoptions(suppress = True)\n",
    "alphas"
   ]
  },
  {
   "cell_type": "code",
   "execution_count": 102,
   "metadata": {},
   "outputs": [],
   "source": [
    "coefs = []\n",
    "for a in alphas:\n",
    "    ridge = Ridge(alpha=a, fit_intercept=False)\n",
    "    ridge.fit(X_train_transformed, y_train)\n",
    "    coefs.append(ridge.coef_)"
   ]
  },
  {
   "cell_type": "code",
   "execution_count": 104,
   "metadata": {},
   "outputs": [
    {
     "data": {
      "image/png": "[encoded data removed]",
      "text/plain": [
       "<Figure size 640x480 with 1 Axes>"
      ]
     },
     "metadata": {},
     "output_type": "display_data"
    }
   ],
   "source": [
    "ax = plt.gca()\n",
    "\n",
    "ax.plot(alphas, coefs)\n",
    "ax.set_xscale(\"log\")\n",
    "plt.xlabel(\"alpha\")\n",
    "plt.ylabel(\"Coeficientes\")\n",
    "plt.title(\"Coeficientes de Ridge como función\" \"\\ndel parametro de regularización\")\n",
    "plt.axis(\"tight\")\n",
    "plt.show()"
   ]
  },
  {
   "cell_type": "markdown",
   "metadata": {
    "_cell_guid": "12c85aac-92d6-408b-8347-69b3ff3faa87",
    "_uuid": "03d265fe680ec2adb21f6623232d93cd5b610ae9"
   },
   "source": [
    "En el lado izquierdo casi no hay penalización, por lo que se pueden observar todos los valores que toman los coeficientes de las disttintas variables. En el lado derecho podemos ver un modelo con coeficientes muy cercanos a cero. Esto se debe a una penalización muy alta. "
   ]
  },
  {
   "cell_type": "markdown",
   "metadata": {},
   "source": [
    "Bien, entonces ajustar un modelo de regresión de Ridge con $\\alpha = 1$ conduce a un $MSE_{test}$  de prueba más bajo que ajustar un modelo con solo una intersección. \n",
    "\n",
    "Ahora verificamos si existe algún beneficio al realizar la regresión de Ridge con alpha = 1 en lugar de simplemente realizar la regresión por mínimos cuadrados. "
   ]
  },
  {
   "cell_type": "code",
   "execution_count": 106,
   "metadata": {},
   "outputs": [
    {
     "name": "stdout",
     "output_type": "stream",
     "text": [
      "Mean Squared Error de testeo (MSE test):  123843.3\n",
      "Coeficientes de la regresión lineal:\n",
      "AtBat         -382.47\n",
      "Hits           434.31\n",
      "HmRun           44.73\n",
      "Runs           -56.32\n",
      "RBI            -92.36\n",
      "Walks          148.75\n",
      "Years            7.55\n",
      "CAtBat        -665.74\n",
      "CHits          380.59\n",
      "CHmRun          77.89\n",
      "CRuns          431.65\n",
      "CRBI           199.68\n",
      "CWalks        -225.06\n",
      "PutOuts         77.55\n",
      "Assists         61.50\n",
      "Errors         -18.57\n",
      "League_N         4.34\n",
      "Division_W     -46.31\n",
      "NewLeague_N    -29.25\n",
      "dtype: float64\n"
     ]
    }
   ],
   "source": [
    "from sklearn.linear_model import LinearRegression\n",
    "modelo_lineal = LinearRegression().fit(X_train_transformed, y_train)\n",
    "pred_lin = modelo_lineal.predict(X_test_transformed)\n",
    "mse_lin = mean_squared_error(y_test, pred_lin)\n",
    "\n",
    "print(\"Mean Squared Error de testeo (MSE test): \", round(mse_lin,2)) \n",
    "print(\"Coeficientes de la regresión lineal:\")\n",
    "print(pd.Series(modelo_lineal.coef_, index = X_train_transformed.columns).round(2)) "
   ]
  },
  {
   "cell_type": "markdown",
   "metadata": {},
   "source": [
    "El modelo con Ridge es mejor que el de mínimos cuadrados ordinarios al comparar los $MSE_{test}$. \n",
    "Como era de esperar, ninguno de los coeficientes es exactamente cero. Recordar: la regresión de Ridge no realiza  selección de variables!"
   ]
  },
  {
   "cell_type": "markdown",
   "metadata": {},
   "source": [
    "Ahora, en lugar de elegir arbitrariamente alpha $ = 1 $, sería mejor usar la validación cruzada para elegir el parámetro de ajuste alpha. \n",
    "\n",
    "#### Ridge con validación cruzada \n",
    "\n",
    "Nuevamente, realizamos una validación cruzada con k=5 para elegir el mejor alfa, reajustar el modo, calcular el error de prueba asociado e imprimir los mejores coeficientes de modelos. Esta vez regularizando con [RidgeCV](https://scikit-learn.org/stable/modules/generated/sklearn.linear_model.RidgeCV.html)"
   ]
  },
  {
   "cell_type": "code",
   "execution_count": 110,
   "metadata": {
    "_cell_guid": "58ebbe1a-348d-42e2-b795-4a64ca26e511",
    "_uuid": "113da53348b000e38056e91f17e0cb11507c32fc"
   },
   "outputs": [
    {
     "name": "stdout",
     "output_type": "stream",
     "text": [
      "El mejor alpha: 1.4058843489871153\n",
      "Mean Squared Error de testeo (MSE test): 115966.66\n",
      "Coeficientes del mejor modelo:\n",
      "AtBat         -331.35\n",
      "Hits           355.63\n",
      "HmRun           19.66\n",
      "Runs           -12.26\n",
      "RBI            -63.62\n",
      "Walks          127.81\n",
      "Years          -53.06\n",
      "CAtBat        -196.81\n",
      "CHits          163.77\n",
      "CHmRun          80.53\n",
      "CRuns          246.48\n",
      "CRBI           145.66\n",
      "CWalks        -185.36\n",
      "PutOuts         76.48\n",
      "Assists         48.71\n",
      "Errors         -22.70\n",
      "League_N         3.57\n",
      "Division_W     -53.59\n",
      "NewLeague_N    -29.08\n",
      "dtype: float64\n"
     ]
    }
   ],
   "source": [
    "ridgecv = RidgeCV(alphas=alphas, cv=5).fit(X_train_transformed, y_train)\n",
    "print(\"El mejor alpha:\", ridgecv.alpha_)\n",
    "\n",
    "# Ahora con el alpha óptimo, volvemos a estimar nuestro modelo\n",
    "ridge = Ridge(alpha=ridgecv.alpha_)\n",
    "ridge = ridge.fit(X_train_transformed, y_train)\n",
    "ridge_pred = ridge.predict(X_test_transformed)\n",
    "mse_ridge = mean_squared_error(y_test, ridge_pred)\n",
    "\n",
    "print(\"Mean Squared Error de testeo (MSE test):\", round(mse_ridge,2))   \n",
    "\n",
    "print(\"Coeficientes del mejor modelo:\")\n",
    "print(pd.Series(ridgecv.coef_, index = X_train_transformed.columns).round(2)) "
   ]
  }
 ],
 "metadata": {
  "kernelspec": {
   "display_name": "Python 3 (ipykernel)",
   "language": "python",
   "name": "python3"
  },
  "language_info": {
   "codemirror_mode": {
    "name": "ipython",
    "version": 3
   },
   "file_extension": ".py",
   "mimetype": "text/x-python",
   "name": "python",
   "nbconvert_exporter": "python",
   "pygments_lexer": "ipython3",
   "version": "3.11.7"
  },
  "varInspector": {
   "cols": {
    "lenName": 16,
    "lenType": 16,
    "lenVar": 40
   },
   "kernels_config": {
    "python": {
     "delete_cmd_postfix": "",
     "delete_cmd_prefix": "del ",
     "library": "var_list.py",
     "varRefreshCmd": "print(var_dic_list())"
    },
    "r": {
     "delete_cmd_postfix": ") ",
     "delete_cmd_prefix": "rm(",
     "library": "var_list.r",
     "varRefreshCmd": "cat(var_dic_list()) "
    }
   },
   "types_to_exclude": [
    "module",
    "function",
    "builtin_function_or_method",
    "instance",
    "_Feature"
   ],
   "window_display": false
  }
 },
 "nbformat": 4,
 "nbformat_minor": 4
}
