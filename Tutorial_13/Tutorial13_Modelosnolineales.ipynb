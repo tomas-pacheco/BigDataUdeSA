{
 "cells": [
  {
   "cell_type": "markdown",
   "metadata": {
    "id": "ObeIwb_npgeZ"
   },
   "source": [
    "# Tutorial de Big Data (UdeSA) 2025\n",
    "## Tutorial 13 - Modelos no lineales\n",
    "\n",
    "**Objetivo:**\n",
    "Que se familiaricen con modelos no lineales"
   ]
  },
  {
   "cell_type": "markdown",
   "metadata": {},
   "source": [
    "### Modelos no lineales\n",
    "\n",
    "En el curso nos enfocamos principalmente en modelos lineales, por ser simples y por sus ventajas en términos de interpretabilidad e inferencia\n",
    "\n",
    "Sin embargo, el supuesto de linealidad es fuerte y a veces puede llevar a un menor poder predictivo. Ahora vamos a relajar el supuesto de linealidad."
   ]
  },
  {
   "cell_type": "code",
   "execution_count": null,
   "metadata": {
    "executionInfo": {
     "elapsed": 2156,
     "status": "ok",
     "timestamp": 1701294736284,
     "user": {
      "displayName": "Victoria Oubina de Castro",
      "userId": "00295192582253170882"
     },
     "user_tz": 180
    },
    "id": "oi4Dp6T8pgee"
   },
   "outputs": [],
   "source": [
    "import pandas as pd\n",
    "import numpy as np\n",
    "import seaborn as sns\n",
    "from matplotlib.pyplot import subplots\n",
    "from ISLP import load_data\n",
    "#%matplotlib inline\n",
    "\n",
    "from sklearn import metrics\n",
    "from sklearn.metrics import mean_squared_error, accuracy_score, r2_score, mean_absolute_error\n",
    "from sklearn.preprocessing import PolynomialFeatures\n",
    "from sklearn.preprocessing import StandardScaler\n",
    "from sklearn.linear_model import LinearRegression\n",
    "import statsmodels.api as sm\n",
    "from sklearn.model_selection import train_test_split"
   ]
  },
  {
   "cell_type": "markdown",
   "metadata": {},
   "source": [
    "En este ejemplo, aplicamos los modelos no lineales a los datos de [Wage](https://islp.readthedocs.io/en/latest/datasets/Wage.html) (que contiene datos de 3000 hombres trabajadores de la region del Atlantico Medio en EEUU) para predecir `wage` (*workers raw wage*)."
   ]
  },
  {
   "cell_type": "code",
   "execution_count": null,
   "metadata": {
    "colab": {
     "base_uri": "https://localhost:8080/"
    },
    "executionInfo": {
     "elapsed": 298,
     "status": "ok",
     "timestamp": 1701294742642,
     "user": {
      "displayName": "Victoria Oubina de Castro",
      "userId": "00295192582253170882"
     },
     "user_tz": 180
    },
    "id": "PRAd4oJspgei",
    "outputId": "b8f14abd-5e6c-46ed-8078-de439a057912"
   },
   "outputs": [],
   "source": [
    "dataset = load_data('Wage')\n",
    "dataset.info()"
   ]
  },
  {
   "cell_type": "code",
   "execution_count": null,
   "metadata": {
    "colab": {
     "base_uri": "https://localhost:8080/"
    },
    "executionInfo": {
     "elapsed": 270,
     "status": "ok",
     "timestamp": 1701294744509,
     "user": {
      "displayName": "Victoria Oubina de Castro",
      "userId": "00295192582253170882"
     },
     "user_tz": 180
    },
    "id": "WRS2GA04Cwtr",
    "outputId": "76d0a93f-35aa-4836-e0fb-dde0a8a87459"
   },
   "outputs": [],
   "source": [
    "# Vamos a usar salario y edad\n",
    "X = dataset['age']\n",
    "y = dataset['wage']\n",
    "print(y)"
   ]
  },
  {
   "cell_type": "code",
   "execution_count": null,
   "metadata": {
    "colab": {
     "base_uri": "https://localhost:8080/",
     "height": 542
    },
    "executionInfo": {
     "elapsed": 1646,
     "status": "ok",
     "timestamp": 1701294747169,
     "user": {
      "displayName": "Victoria Oubina de Castro",
      "userId": "00295192582253170882"
     },
     "user_tz": 180
    },
    "id": "Ium1Fp_rCwtr",
    "outputId": "b2b16046-7c25-4ff5-ae4a-e332aaf03f83"
   },
   "outputs": [],
   "source": [
    "fig, ax = subplots(figsize=(8,4))\n",
    "ax.scatter(X, y, facecolor='gray', alpha=0.5)\n",
    "ax.set_xlabel('Age')\n",
    "ax.set_ylabel('Wage')\n"
   ]
  },
  {
   "cell_type": "code",
   "execution_count": null,
   "metadata": {
    "executionInfo": {
     "elapsed": 2,
     "status": "ok",
     "timestamp": 1701294748023,
     "user": {
      "displayName": "Victoria Oubina de Castro",
      "userId": "00295192582253170882"
     },
     "user_tz": 180
    },
    "id": "_iRalid3Cwtr"
   },
   "outputs": [],
   "source": [
    "X_train, X_test, y_train, y_test = train_test_split(X, y, test_size=0.2, random_state=0)"
   ]
  },
  {
   "cell_type": "markdown",
   "metadata": {},
   "source": [
    "#### Regresión polinómica"
   ]
  },
  {
   "cell_type": "code",
   "execution_count": null,
   "metadata": {
    "colab": {
     "base_uri": "https://localhost:8080/"
    },
    "executionInfo": {
     "elapsed": 389,
     "status": "ok",
     "timestamp": 1701294748679,
     "user": {
      "displayName": "Victoria Oubina de Castro",
      "userId": "00295192582253170882"
     },
     "user_tz": 180
    },
    "id": "CFZYDoiDCwts",
    "outputId": "02a273f3-52b5-43e1-ae0e-afb2956c4ef3"
   },
   "outputs": [],
   "source": [
    "# Reshape para transformar x en un vector columna\n",
    "X_train_ = X_train.values.reshape((-1, 1)) # Convertir Series a NumPy array y reshape\n",
    "\n",
    "# Transformación polinomial\n",
    "model_pol = PolynomialFeatures(include_bias=True, degree=4)\n",
    "model_pol.fit(X_train_)\n",
    "X_train_t = model_pol.transform(X_train_)\n",
    "\n",
    "# Si en PolynomialFeatures ponemos include_bias=False, podemos agregar constante:\n",
    "#X_train_t = sm.add_constant(X_train_t)\n",
    "\n",
    "# Especificamos el modelo y ajustamos\n",
    "model_pol4 = sm.OLS(y_train, X_train_t)\n",
    "results = model_pol4.fit()\n",
    "\n",
    "print(results.summary())"
   ]
  },
  {
   "cell_type": "markdown",
   "metadata": {},
   "source": [
    "Estimamos el MSE de testeo"
   ]
  },
  {
   "cell_type": "code",
   "execution_count": null,
   "metadata": {
    "colab": {
     "base_uri": "https://localhost:8080/"
    },
    "executionInfo": {
     "elapsed": 3,
     "status": "ok",
     "timestamp": 1701294750877,
     "user": {
      "displayName": "Victoria Oubina de Castro",
      "userId": "00295192582253170882"
     },
     "user_tz": 180
    },
    "id": "zkr51kbHCwts",
    "outputId": "a9bf9d0f-8820-4b36-89d9-902073b187fd"
   },
   "outputs": [],
   "source": [
    "X_test_t = model_pol.fit_transform(X_test.values.reshape((-1, 1)))\n",
    "\n",
    "y_pred = results.predict(X_test_t)\n",
    "\n",
    "print('ECM:', mean_squared_error(y_test, y_pred))"
   ]
  },
  {
   "cell_type": "code",
   "execution_count": null,
   "metadata": {
    "colab": {
     "base_uri": "https://localhost:8080/",
     "height": 542
    },
    "executionInfo": {
     "elapsed": 1159,
     "status": "ok",
     "timestamp": 1701294753893,
     "user": {
      "displayName": "Victoria Oubina de Castro",
      "userId": "00295192582253170882"
     },
     "user_tz": 180
    },
    "id": "GxHvruzDCwts",
    "outputId": "a538ba11-0692-4cbb-bbab-f1d4c8c5d965"
   },
   "outputs": [],
   "source": [
    "# Generamos otras X y sus predicciones para graficar\n",
    "X_seq = np.linspace(X.min(), X.max()).reshape(-1,1)\n",
    "X_seq_t = model_pol.fit_transform(X_seq)\n",
    "X_seq_pred = results.predict(X_seq_t)\n",
    "\n",
    "fig, ax = subplots(figsize=(8,4))\n",
    "ax.scatter(X, y, facecolor='gray', alpha=0.5)\n",
    "ax.plot(X_seq, X_seq_pred, label='Reg. polinómica grado 4', linewidth=3)\n",
    "ax.set_xlabel('Age')\n",
    "ax.set_ylabel('Wage')\n",
    "#ax.legend(title='Poly', fontsize=15)"
   ]
  },
  {
   "cell_type": "code",
   "execution_count": null,
   "metadata": {
    "colab": {
     "base_uri": "https://localhost:8080/"
    },
    "executionInfo": {
     "elapsed": 3,
     "status": "ok",
     "timestamp": 1701294754683,
     "user": {
      "displayName": "Victoria Oubina de Castro",
      "userId": "00295192582253170882"
     },
     "user_tz": 180
    },
    "id": "hrYD3AvtCwtt",
    "outputId": "a12fd364-c8b8-4f0f-e704-f0947638f1c2"
   },
   "outputs": [],
   "source": [
    "results.predict(X_seq_t)"
   ]
  },
  {
   "cell_type": "markdown",
   "metadata": {
    "id": "cBEKgfZQCwtt"
   },
   "source": [
    "Podemos elegir el grado del polinimio por CV"
   ]
  },
  {
   "cell_type": "markdown",
   "metadata": {
    "id": "ycUUieH5Cwtt"
   },
   "source": [
    "#### Step function"
   ]
  },
  {
   "cell_type": "code",
   "execution_count": null,
   "metadata": {
    "colab": {
     "base_uri": "https://localhost:8080/"
    },
    "executionInfo": {
     "elapsed": 272,
     "status": "ok",
     "timestamp": 1701294757481,
     "user": {
      "displayName": "Victoria Oubina de Castro",
      "userId": "00295192582253170882"
     },
     "user_tz": 180
    },
    "id": "a7piR-mGCwtt",
    "outputId": "c7b14e2b-4adc-4333-e3e8-8217d7464bf5"
   },
   "outputs": [],
   "source": [
    "# Hacemos a la edad (X) discreta en función de cuantiles\n",
    "cut_X = pd.qcut(X, 5) #qcut con 4 cuantiles\n",
    "cut_X\n",
    "# Nota pd.cut() permitiría hacer cortes no basados en cuantiles"
   ]
  },
  {
   "cell_type": "code",
   "execution_count": null,
   "metadata": {
    "colab": {
     "base_uri": "https://localhost:8080/",
     "height": 424
    },
    "executionInfo": {
     "elapsed": 426,
     "status": "ok",
     "timestamp": 1701294759071,
     "user": {
      "displayName": "Victoria Oubina de Castro",
      "userId": "00295192582253170882"
     },
     "user_tz": 180
    },
    "id": "Kb7QqvP6Cwtu",
    "outputId": "ab971252-6f17-4dd6-8f6f-edd08e02f4cf"
   },
   "outputs": [],
   "source": [
    "# y creamos dummies para cada quintil\n",
    "q_X = pd.get_dummies(cut_X)\n",
    "q_X"
   ]
  },
  {
   "cell_type": "code",
   "execution_count": null,
   "metadata": {
    "colab": {
     "base_uri": "https://localhost:8080/"
    },
    "executionInfo": {
     "elapsed": 259,
     "status": "ok",
     "timestamp": 1701294463354,
     "user": {
      "displayName": "Victoria Oubina de Castro",
      "userId": "00295192582253170882"
     },
     "user_tz": 180
    },
    "id": "anpAto9kCwtu",
    "outputId": "3ab207f7-cb14-4dec-c95d-7263b82c1cf3"
   },
   "outputs": [],
   "source": [
    "# Primera columna\n",
    "q_X.iloc[:, 0]"
   ]
  },
  {
   "cell_type": "code",
   "execution_count": null,
   "metadata": {
    "executionInfo": {
     "elapsed": 255,
     "status": "ok",
     "timestamp": 1701294769653,
     "user": {
      "displayName": "Victoria Oubina de Castro",
      "userId": "00295192582253170882"
     },
     "user_tz": 180
    },
    "id": "CVKKZ-bQpgel"
   },
   "outputs": [],
   "source": [
    "q_X_train, q_X_test, y_train, y_test = train_test_split(q_X, y, test_size=0.2, random_state=0)"
   ]
  },
  {
   "cell_type": "code",
   "execution_count": null,
   "metadata": {
    "colab": {
     "base_uri": "https://localhost:8080/"
    },
    "executionInfo": {
     "elapsed": 261,
     "status": "ok",
     "timestamp": 1701294771418,
     "user": {
      "displayName": "Victoria Oubina de Castro",
      "userId": "00295192582253170882"
     },
     "user_tz": 180
    },
    "id": "EREeeUzSCwtu",
    "outputId": "5fcfbb53-3f57-444e-9e7c-dcd68bad5d95"
   },
   "outputs": [],
   "source": [
    "#q_X_train_= sm.add_constant(q_X_train)\n",
    "\n",
    "# Especificamos el modelo y ajustamos\n",
    "q_model_pol4 = sm.OLS(y_train, q_X_train)\n",
    "q_results = q_model_pol4.fit()\n",
    "\n",
    "print(q_results.summary())"
   ]
  },
  {
   "cell_type": "code",
   "execution_count": null,
   "metadata": {
    "colab": {
     "base_uri": "https://localhost:8080/",
     "height": 542
    },
    "executionInfo": {
     "elapsed": 1265,
     "status": "ok",
     "timestamp": 1701294775735,
     "user": {
      "displayName": "Victoria Oubina de Castro",
      "userId": "00295192582253170882"
     },
     "user_tz": 180
    },
    "id": "5eqHh_atCwtu",
    "outputId": "9aabc024-9c65-4d84-c170-f57b585fac64"
   },
   "outputs": [],
   "source": [
    "q_pred =  q_results.predict(q_X_test).values\n",
    "\n",
    "fig, ax = subplots(figsize=(8,4))\n",
    "ax.scatter(X, y, facecolor='gray', alpha=0.5)\n",
    "ax.plot(X_seq, results.predict(X_seq_t), label='Reg. polinómica grado 4', linewidth=2)\n",
    "ax.scatter(X_test.values.reshape(-1,1), q_pred, facecolor='red', alpha=0.9, label=\"Step function\")\n",
    "ax.set_xlabel('Age')\n",
    "ax.set_ylabel('Wage')\n",
    "ax.legend(title='', fontsize=12)"
   ]
  }
 ],
 "metadata": {
  "colab": {
   "provenance": []
  },
  "kernelspec": {
   "display_name": "Python 3 (ipykernel)",
   "language": "python",
   "name": "python3"
  },
  "language_info": {
   "codemirror_mode": {
    "name": "ipython",
    "version": 3
   },
   "file_extension": ".py",
   "mimetype": "text/x-python",
   "name": "python",
   "nbconvert_exporter": "python",
   "pygments_lexer": "ipython3",
   "version": "3.11.7"
  }
 },
 "nbformat": 4,
 "nbformat_minor": 4
}
