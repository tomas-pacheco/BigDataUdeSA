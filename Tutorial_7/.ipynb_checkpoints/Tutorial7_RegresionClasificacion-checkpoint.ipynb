{
 "cells": [
  {
   "cell_type": "markdown",
   "metadata": {
    "id": "jbQnrDd5kPBV"
   },
   "source": [
    "# Tutorial de Big Data (UdeSA) 2025\n",
    "## Tutorial 7 \n",
    "### Clasificacion: Logit, LDA, KNN, QDA & Naive Bayes\n",
    "\n",
    "**Objetivo:** entender la \"diferencia\" entre clasificación y regresión. Utilizar Bayes, análisis de discriminante lineal y KNN. Análisis de la curva ROC.\n",
    "\n",
    "Veremos:\n",
    "- Clasificación\n",
    "- Medidas de precisión\n",
    "- Curva de ROC\n",
    "- Análisis de discriminante lineal (LDA) y cuadrático (QDA)\n",
    "- KNN\n",
    "- Naive Bayes\n",
    "\n"
   ]
  },
  {
   "cell_type": "code",
   "execution_count": null,
   "metadata": {
    "id": "FCC29krdkPBZ"
   },
   "outputs": [],
   "source": [
    "import os  \n",
    "import pandas as pd\n",
    "import numpy as np \n",
    "import matplotlib.pyplot as plt  \n",
    "import statsmodels.api as sm     \n",
    "\n",
    "from sklearn import datasets\n",
    "from sklearn.linear_model import LogisticRegression\n",
    "from sklearn.model_selection import train_test_split\n",
    "from sklearn.metrics import confusion_matrix\n",
    "from sklearn.metrics import accuracy_score, recall_score \n",
    "from sklearn.metrics import roc_curve\n",
    "from sklearn.metrics import roc_auc_score\n",
    "from sklearn.metrics import RocCurveDisplay\n",
    "#from sklearn.metrics import plot_roc_curve\n",
    "from sklearn.discriminant_analysis import LinearDiscriminantAnalysis\n",
    "from sklearn.neighbors import KNeighborsClassifier"
   ]
  },
  {
   "cell_type": "markdown",
   "metadata": {
    "id": "6tdJMCuTkPBb"
   },
   "source": [
    "#### Nueva situación: 'y' es una variable cualitativa. ¿Qué hacer? \n",
    "\n",
    "- ¿Por qué en el caso de 'y' cualitativa la regresión linear no es una opción apropiada?\n",
    "\n",
    "1. Puede no haber una forma de transformar una variable cualitativa con más de 2 niveles en una variable cuantitaiva que nos 'sirva' para una regresión lineal: puede que 'y' no tenga un orden. Por ejemplo, si la 'y' hace referencia a enfermedades. ¿Cómo asignarles un valor? Implicaría asumir un orden y también que la diferencia entre las enfermedades es equivalente...\n",
    "\n",
    "2. En el caso binario (2 niveles) podemos transformar la variable a una variable numérica. Por ejemplo: y=1 pobre e y=0 no pobre. Sin embargo, con una regresión  lineal podría ocurrir que generemos predicciones fuera del intervalo [0, 1] y por ende no podremos interpretarlo como probabilidades...\n",
    "\n",
    "Entonces...\n",
    "#### Vamos a clasificar 'y' (variable cualitativa) en base a 'x'\n",
    "\n",
    "- ¿Estamos ante un caso de aprendizaje supervisado o no supervisado? \n",
    "\n",
    "Vamos a trabajar con bases donde tenemos el output esperado. Por lo tanto, nuestros modelos serán casos de aprendizaje supervisado.\n",
    "     \n",
    "- ¿Qué es el clasificador de Bayes? \n",
    "\n",
    "Clasificar según el estado más probable minimiza el riesgo esperado. Por ej: si la probabilidad de que una persona me pague un credito es mayor que 0.5, predigo que pagará el credito. \n",
    "\n",
    "#### Modelos:\n",
    "    \n",
    "1. Regresión logística \n",
    "2. Análisis de discriminante lineal\n",
    "3. KNN\n",
    "\n",
    "Vamos a construir un clasificador con los datos de training. Queremos que funcione bien no solo en el conjunto de entrenamiento sino también en el conjunto de test."
   ]
  },
  {
   "cell_type": "markdown",
   "metadata": {},
   "source": [
    "#### REGRESIÓN LOGÍSTICA CON SCIKIT-LEARN\n",
    "\n",
    "Algoritmo de clasificación que se usa para predecir la probabilidad de una variable dependiente categórica. El modelo logit predice $P(Y=1)$ como una función de $X$. Se modela la probabilidad de una forma tal que los outputs serán valores entre 0 y 1 para cualquier valor de $X$.\n",
    "\n",
    "\n",
    "Ahora utilizaremos la función [LogisticRegression()](https://scikit-learn.org/stable/modules/generated/sklearn.linear_model.LogisticRegression.html)\n",
    "\n",
    "Se pueden proveer muchos parámetros opcionales para esta función:\n",
    "\n",
    "- **fit_intercept**: Boolean que decide si calcular el intercepto (True) o considerarlo igual a cero (False). Por default es True.\n",
    "- **penalty**: Se determina se usar algún tipo de regularización. Posibles valores: ‘l1’, ‘l2’, ‘elasticnet’, None. El valor por defecto es default es ‘l2’, es decir que se aplica regularización.\n"
   ]
  },
  {
   "cell_type": "code",
   "execution_count": null,
   "metadata": {
    "id": "FKjyS79GkPBc"
   },
   "outputs": [],
   "source": [
    "# Creamos un vector de x e y para fines del ejemplo.\n",
    "np.random.seed(25)\n",
    "X = np.random.normal(size=100)\n",
    "print(X)\n",
    "\n",
    "# Recordatorio: para la regresión lineal creamos un vector aleatorio así:\n",
    "# y = 2 + 3*x + np.random.rand(50, 1)\n",
    "# Ahora lo crearemos de la siguiente forma para que tenga más sentido usar una regresión logística\n",
    "y = (X > 0).astype(float) # si no pusiera astype sería un array de True y False\n",
    "\n",
    "# Alteramos los valores de X y sumamos variación con el \"error\"\n",
    "X[X > 0] *= 4\n",
    "X += .5 * np.random.normal(size=100)\n",
    "X = X.reshape((-1, 1)) # para tenerlo como columna\n",
    "#print(X)"
   ]
  },
  {
   "cell_type": "code",
   "execution_count": null,
   "metadata": {
    "id": "4I__jLCpkPBd",
    "outputId": "28b640d8-4491-4fc6-e4c1-a64057a16ca7"
   },
   "outputs": [],
   "source": [
    "# Graficamos para ver si nos quedó un vector que 1s y 0s\n",
    "plt.scatter(X, y, color='orange', zorder=20, marker=\"|\")\n",
    "plt.xlabel('x')\n",
    "plt.ylabel('Y')"
   ]
  },
  {
   "cell_type": "code",
   "execution_count": null,
   "metadata": {
    "id": "irnHZgZbkPBe",
    "outputId": "5c14ea37-11ca-43fc-fd6a-1ea7430277b1",
    "scrolled": true
   },
   "outputs": [],
   "source": [
    "# Ajustamos el clasificador con el método fit() \n",
    "log_reg = LogisticRegression(penalty=None).fit(X, y)\n",
    "\n",
    "# Predicciones (probabilidad)\n",
    "y_pred_score = log_reg.predict_proba(X)[:,1]   # Por qué seleccionamos la columna 1?\n",
    "\n",
    "# Gráfico de resultados\n",
    "plt.figure(figsize=(6, 4))\n",
    "plt.scatter(X, y_pred_score, color='red', zorder=20)\n",
    "plt.show()"
   ]
  },
  {
   "cell_type": "code",
   "execution_count": null,
   "metadata": {
    "id": "ADgZMAw_kPBe",
    "outputId": "140f7389-7777-4563-bbfd-6f8079fe87fd",
    "scrolled": true
   },
   "outputs": [],
   "source": [
    "# Convertimos las probabilidades en Y con valores 1 o 0 (usando el clasificador de Bayes)\n",
    "y_pred = np.where(y_pred_score > 0.5, 1, y_pred_score)\n",
    "y_pred = np.where(y_pred_score <= 0.5, 0, y_pred)\n",
    "\n",
    "plt.figure(figsize=(6, 4))\n",
    "plt.scatter(X, y_pred, color='red', zorder=20)\n",
    "plt.show()"
   ]
  },
  {
   "cell_type": "code",
   "execution_count": null,
   "metadata": {
    "id": "5Nk2FQwEkPBf",
    "outputId": "9525ef11-dbf9-4eef-e61b-3057037ea524",
    "scrolled": true
   },
   "outputs": [],
   "source": [
    "# Equivalente a lo anterior es usar predict() (clasifica en 0s y 1s)\n",
    "y_pred_2 = log_reg.predict(X)\n",
    "print(pd.crosstab(index=y_pred, columns=y_pred_2))\n",
    "\n",
    "# Y graficamos los resultados\n",
    "plt.figure(figsize=(6, 4))\n",
    "plt.scatter(X, y_pred_2, color='red', zorder=20)\n",
    "plt.show()"
   ]
  },
  {
   "cell_type": "markdown",
   "metadata": {},
   "source": [
    "#### REGRESIÓN LOGÍSTICA CON STATSMODELS"
   ]
  },
  {
   "cell_type": "code",
   "execution_count": null,
   "metadata": {
    "id": "fYIj_a2nkPBf",
    "outputId": "dc43f14e-f668-429c-9717-c1f67c9c4db7"
   },
   "outputs": [],
   "source": [
    "# Podemos repetirlo con statsmodels\n",
    "# Primero agregamos la columna de 1s y hacemos el ajuste\n",
    "X_sm = sm.add_constant(X) \n",
    "logit_model = sm.Logit(y, X_sm)\n",
    "result = logit_model.fit()\n",
    "print(result.summary2()) \n",
    "#También podríamos vn: print(result.summary2().as_latex())\n"
   ]
  },
  {
   "cell_type": "code",
   "execution_count": null,
   "metadata": {
    "id": "cb5paFYmkPBg",
    "scrolled": true
   },
   "outputs": [],
   "source": [
    "y_pred_score_sm = result.predict(X_sm)\n",
    "\n",
    "# El método where requiere una condición como primer parámetro, \n",
    "# que cuando es True devuelve el segundo valor y cuando es False devuelve tercero. \n",
    "y_pred_sm = np.where(y_pred_score_sm > 0.5, 1, y_pred_score_sm)\n",
    "y_pred_sm = np.where(y_pred_score_sm <= 0.5, 0, y_pred_sm)\n",
    "\n",
    "print(pd.crosstab(index=y_pred, columns=y_pred_sm))"
   ]
  },
  {
   "cell_type": "markdown",
   "metadata": {
    "id": "k0jSYKT8kPBg"
   },
   "source": [
    "#### El método predict() de statsmodels, ¿a qué metodo se parece en scikit-learn?"
   ]
  },
  {
   "cell_type": "markdown",
   "metadata": {
    "id": "UeAbfCsAkPBg"
   },
   "source": [
    "### Medidas de precisión \n",
    "\n",
    "Dependiendo la prioridad del problema seguramente vamos a querer usar diferentes métricas. Scikit learn tiene muchas métricas que pueden explorar en el módulo [metrics](https://scikit-learn.org/stable/modules/model_evaluation.html)\n",
    "\n",
    "- Sensitivity o Recall o True Positive Rate: TP rate = TP/P\n",
    "- Specificity o True Negative Rate: 1 - FP rate = TN/N\n",
    "- False Positive Rate o False Alarm Rate: FP rate = FP/N\n",
    "- False Negative Rate: FN rate = FN/P\n",
    "- Precision o Positive Predicted Value: TP/(TP+FP)\n",
    "- Accuracy: (TP+TN)/(P+N)\n",
    "\n",
    "Nota: Cuidado con las traducciones! \"Accuracy\" lo pueden encontrar traducido como \"precisión\" y eso puede generar confusión con la medida \"precision\" (o positive predicted value). Mi sugerencia es traducir \"accuracy\" como \"exactitud\".\n",
    "\n",
    "\n",
    "[Matriz de confusión](https://www.unite.ai/what-is-a-confusion-matrix/)\n",
    "<center>\n",
    "<img src=\"https://www.unite.ai/wp-content/uploads/2019/12/Preventive_Medicine-e1576294312614.png\" width=\"1000\">\n",
    "\n",
    "</center>"
   ]
  },
  {
   "cell_type": "code",
   "execution_count": null,
   "metadata": {
    "id": "WfTtD3wGkPBh",
    "outputId": "cfc2fc2d-aeb5-43f6-9dfa-a87d5403f1f1"
   },
   "outputs": [],
   "source": [
    "matriz_confusion = confusion_matrix(y, y_pred)\n",
    "\n",
    "print('Confusion Matrix:')\n",
    "print(matriz_confusion) \n",
    "print('Accuracy Score:', accuracy_score(y, y_pred))\n",
    "\n",
    "# Nota importante: en Python la matriz de confusión tiene:\n",
    "# en las filas los valores ciertos\n",
    "# y en las columnas los valores predichos"
   ]
  },
  {
   "cell_type": "markdown",
   "metadata": {},
   "source": [
    "La matriz de confusión de sklearn pone en las filas las Y reales y las columnas las Y predichas. Muestra así los valores:\n",
    "\n",
    "                               predicción\n",
    "                         real   tn fp\n",
    "                                fn tp"
   ]
  },
  {
   "cell_type": "code",
   "execution_count": null,
   "metadata": {
    "id": "z3TW-0AdkPBh",
    "outputId": "4ea0980b-afbc-4ca0-c0a8-d8763a64de05"
   },
   "outputs": [],
   "source": [
    "# Para los casos donde la predición (la y) es binaria podemos usar lo siguiente:\n",
    "tn, fp , fn, tp = confusion_matrix(y, y_pred).ravel()   # Ravel transforma la matriz en un 1D array\n",
    "# equivalente a: [tn, fp] , [fn, tp] = confusion_matrix(y, y_pred_2)\n",
    "\n",
    "print(\"Verdadero 0: \", tn)\n",
    "print(\"Falso 1: \", fp)\n",
    "print(\"Falso 0: \", fn)\n",
    "print(\"Verdadero 1: \", tp)"
   ]
  },
  {
   "cell_type": "code",
   "execution_count": null,
   "metadata": {},
   "outputs": [],
   "source": [
    "confusion_matrix(y, y_pred).ravel()"
   ]
  },
  {
   "cell_type": "code",
   "execution_count": null,
   "metadata": {},
   "outputs": [],
   "source": [
    "# accuracy: (tp + tn) / (p + n)\n",
    "accuracy = accuracy_score(y, y_pred)\n",
    "print('Accuracy: %f' % accuracy)\n",
    "\n",
    "# recall: tp / p = tp / (tp + fn)\n",
    "recall = recall_score(y, y_pred)\n",
    "print('Recall: %f' % recall)"
   ]
  },
  {
   "attachments": {
    "roc.JPG": {
     "image/jpeg": "[encoded data removed]"
    }
   },
   "cell_type": "markdown",
   "metadata": {
    "id": "AA2HdTO2kPBi"
   },
   "source": [
    "### Curva ROC                  \n",
    "ROC: Receiver Operating Characteristics\n",
    "![roc.JPG](attachment:roc.JPG)\n",
    "\n",
    "Veremos como utilizar las funciones:\n",
    "\n",
    "-  [roc_curve](https://scikit-learn.org/stable/modules/generated/sklearn.metrics.roc_curve.html#sklearn.metrics.roc_curve): computa la curva de ROC\n",
    "- [roc_auc_score](https://scikit-learn.org/stable/modules/generated/sklearn.metrics.roc_auc_score.html#sklearn.metrics.roc_auc_score): Computa el area bajo la curva de ROC de los scores predichos.\n",
    "- [RocCurveDisplay](https://scikit-learn.org/stable/modules/generated/sklearn.metrics.RocCurveDisplay.html#sklearn.metrics.RocCurveDisplay): Sirve para visualizar la curva de ROC. Con el mismo fin existe [plot_roc_curve](https://scikit-learn.org/stable/modules/generated/sklearn.metrics.plot_roc_curve.html#sklearn.metrics.plot_roc_curve)"
   ]
  },
  {
   "cell_type": "code",
   "execution_count": null,
   "metadata": {
    "id": "9Xz_zYixkPBi",
    "outputId": "31d3d41f-4d14-4466-b373-4694086aae38"
   },
   "outputs": [],
   "source": [
    "auc = roc_auc_score(y, y_pred_score)\n",
    "print('AUC: %.3f' % auc)"
   ]
  },
  {
   "cell_type": "code",
   "execution_count": null,
   "metadata": {
    "id": "-BxsPsLukPBi",
    "outputId": "53189139-c1c3-4f52-d290-ab071fb7ddbf",
    "scrolled": true
   },
   "outputs": [],
   "source": [
    "fpr, tpr, thresholds = roc_curve(y, y_pred_score)\n",
    "np.set_printoptions(suppress = True) #If True, always print floating point numbers using fixed point notation, \n",
    "#                                     in which case numbers equal to zero in the current precision will print as zero. \n",
    "print('Thresholds:', thresholds)\n",
    "print('FPR:', fpr)\n",
    "print('TPR:', tpr)"
   ]
  },
  {
   "cell_type": "markdown",
   "metadata": {},
   "source": [
    "Ojo! Notar que Entre los umbrales hay uno que toma valor 2. El rango del umbral es de 0 a 1, ya que es una probabilidad. Pero scikit learn suma 1 al último valor en el array de thresholds (Notar que el anteúltimo umbral es 1, y el último es 2)."
   ]
  },
  {
   "cell_type": "code",
   "execution_count": null,
   "metadata": {
    "id": "x48Q7e9FkPBj",
    "outputId": "e1c3e75b-e22d-416a-ba30-6d31ba8fa28a"
   },
   "outputs": [],
   "source": [
    "display = RocCurveDisplay(fpr=fpr, tpr=tpr, roc_auc=auc, estimator_name='Reg_log')\n",
    "display.plot()  \n",
    "plt.plot([0, 1], [0, 1], color='red', linestyle='--', linewidth=.5)\n",
    "plt.show() "
   ]
  },
  {
   "cell_type": "markdown",
   "metadata": {
    "id": "jwDo6nkMkPBk"
   },
   "source": [
    "#### Repitamos el ejercicio partiendo la base en train y test"
   ]
  },
  {
   "cell_type": "code",
   "execution_count": null,
   "metadata": {
    "id": "2gjh24LLkPBl"
   },
   "outputs": [],
   "source": [
    "# Entrenaremos con el 70% de la base de datos y el resto se usarán para testear \n",
    "# el modelo obtenido\n",
    "X_train, X_test, y_train, y_test = train_test_split(X, y, test_size=0.3, random_state=101)\n"
   ]
  },
  {
   "cell_type": "code",
   "execution_count": null,
   "metadata": {
    "id": "6eYHGsJrkPBl"
   },
   "outputs": [],
   "source": [
    "# Estimo:\n",
    "# Ajustamos el clasificador con el metodo fit() \n",
    "log_reg = LogisticRegression(penalty=None).fit(X_train, y_train)\n",
    "y_test_pred_score = log_reg.predict_proba(X_test)[:,1]\n",
    "y_test_pred = log_reg.predict(X_test)\n"
   ]
  },
  {
   "cell_type": "code",
   "execution_count": null,
   "metadata": {
    "id": "c2n1TZMukPBl",
    "outputId": "2f4b5060-bad3-4af3-8581-0bb3f12c9d90"
   },
   "outputs": [],
   "source": [
    "# AUC y ROC\n",
    "auc = roc_auc_score(y_test, y_test_pred_score)\n",
    "print('AUC: %.4f' % auc)\n",
    "fpr, tpr, thresholds = roc_curve(y_test, y_test_pred_score, drop_intermediate=False)  # drop_intermediate=False nos da mas thresholds ('c') para probar\n",
    "print('Thresholds:', thresholds)\n",
    "print('FPR:', fpr)\n",
    "print('TPR:', tpr)"
   ]
  },
  {
   "cell_type": "code",
   "execution_count": null,
   "metadata": {
    "id": "t6QwvjRPkPBl",
    "outputId": "71ed26f4-8f71-43be-9dbc-bf1ebd019ce8"
   },
   "outputs": [],
   "source": [
    "display = RocCurveDisplay(fpr=fpr, tpr=tpr, roc_auc=auc, estimator_name='Reg_log')\n",
    "display.plot()  \n",
    "plt.plot([0, 1], [0, 1], color='red', linestyle='--')\n",
    "plt.show() "
   ]
  },
  {
   "cell_type": "markdown",
   "metadata": {
    "id": "hc3wev7MkPBm"
   },
   "source": [
    "### Análisis discriminante lineal\n",
    "\n",
    "[LinearDiscriminantAnalysis()](http://scikit-learn.org/stable/modules/generated/sklearn.discriminant_analysis.LinearDiscriminantAnalysis.html): Es un clasificador que utiliza un límite lineal para distinguir las categorías, generado a través del ajuste de densidades condicionales de las clases y utilizando la regla de Bayes.\n",
    "\n",
    "El modelo ajusta una densidad gaussiana a cada clase, asumiendo que todas las clases comparten la misma matriz de covarianza.\n",
    "\n",
    "El modelo también se puede utilizar para reducir la dimensionalidad de la entrada proyectándola en las direcciones que aportan mayor distinción, para ello se utiliza el método `transform`."
   ]
  },
  {
   "cell_type": "markdown",
   "metadata": {
    "id": "wvnREjWVkPBm"
   },
   "source": [
    "#### Trabajaremos con el dataset de flores iris (muy usado para ejemplos de sklearn)\n",
    "[The Iris Dataset](https://scikit-learn.org/stable/auto_examples/datasets/plot_iris_dataset.html)\n"
   ]
  },
  {
   "cell_type": "code",
   "execution_count": null,
   "metadata": {
    "id": "f-305aCpkPBm"
   },
   "outputs": [],
   "source": [
    "iris = datasets.load_iris()\n",
    "#print(type(iris))"
   ]
  },
  {
   "cell_type": "code",
   "execution_count": null,
   "metadata": {},
   "outputs": [],
   "source": [
    "iris"
   ]
  },
  {
   "cell_type": "markdown",
   "metadata": {
    "id": "GKAf1OpZkPBm"
   },
   "source": [
    "The Iris dataset represents 3 kind of Iris flowers (Setosa, Versicolour and Virginica) with 4 attributes: sepal length, sepal width, petal length and petal width.\n",
    "\n",
    "Linear Discriminant Analysis (LDA) tries to identify attributes that account for the most variance between classes. In particular, LDA, in contrast to PCA, is a supervised method, using known class labels.\n",
    "\n",
    "Fuente: [Comparison of LDA and PCA 2D projection of Iris dataset](https://scikit-learn.org/stable/auto_examples/decomposition/plot_pca_vs_lda.html#sphx-glr-auto-examples-decomposition-plot-pca-vs-lda-py)"
   ]
  },
  {
   "cell_type": "code",
   "execution_count": null,
   "metadata": {
    "id": "yQX7irbikPBm"
   },
   "outputs": [],
   "source": [
    "X = iris.data\n",
    "y = iris.target\n",
    "print(X, y)"
   ]
  },
  {
   "cell_type": "code",
   "execution_count": null,
   "metadata": {
    "id": "_6fGlO3SkPBm",
    "outputId": "5eb99b94-3340-4f6e-f514-34a3620ee8dd"
   },
   "outputs": [],
   "source": [
    "target_names = iris.target_names\n",
    "target_names"
   ]
  },
  {
   "cell_type": "code",
   "execution_count": null,
   "metadata": {
    "id": "0xIIt-M5kPBm"
   },
   "outputs": [],
   "source": [
    "# Separamos la muestra en datos de entrenamiento y de validación \n",
    "X_train, X_test, y_train, y_test = train_test_split(X, y, test_size=0.3,\n",
    "                                                    random_state=4) "
   ]
  },
  {
   "cell_type": "code",
   "execution_count": null,
   "metadata": {
    "id": "HI-yI241kPBn",
    "outputId": "8c4fe7f6-7c53-40ac-a07d-bc3bc2f9d5ec"
   },
   "outputs": [],
   "source": [
    "print(X_train.shape, X_test.shape, y_train.shape, y_test.shape) #vemos lo tamaños de cada subconjunto"
   ]
  },
  {
   "cell_type": "code",
   "execution_count": null,
   "metadata": {
    "id": "Ds2c6bB8kPBn"
   },
   "outputs": [],
   "source": [
    "lda = LinearDiscriminantAnalysis(n_components=2) # Number of components (<= min(n_classes - 1, n_features)) for dimensionality reduction.\n",
    "lda = lda.fit(X_train, y_train)"
   ]
  },
  {
   "cell_type": "code",
   "execution_count": null,
   "metadata": {},
   "outputs": [],
   "source": [
    "# Podemos ver algunas partes de la formula en LDA, el vector de medias por clase de Y\n",
    "lda.means_"
   ]
  },
  {
   "cell_type": "code",
   "execution_count": null,
   "metadata": {},
   "outputs": [],
   "source": [
    "lda.classes_ # las clases"
   ]
  },
  {
   "cell_type": "code",
   "execution_count": null,
   "metadata": {},
   "outputs": [],
   "source": [
    "lda.priors_ # proporciones de Y de cada clase, prob(Y=k) prior"
   ]
  },
  {
   "cell_type": "code",
   "execution_count": null,
   "metadata": {
    "id": "5-Q5QLdakPBn"
   },
   "outputs": [],
   "source": [
    "X_r = lda.transform(X_train) # Project data to maximize class separation.\n",
    "X_r"
   ]
  },
  {
   "cell_type": "code",
   "execution_count": null,
   "metadata": {
    "id": "wsz9f3M5kPBo",
    "outputId": "677dccc3-defc-4459-dbf0-cc5fe1bc0ef0"
   },
   "outputs": [],
   "source": [
    "plt.figure()\n",
    "# Graficar los puntos de cada clase. \n",
    "#Se toman las coordenadas de la primera y segunda columna de X_r, indexando los valores según y, la clase.  \n",
    "plt.scatter(X_r[y_train == 0, 0], X_r[y_train == 0, 1], alpha=.8, color='navy', label='setosa')\n",
    "plt.scatter(X_r[y_train == 1, 0], X_r[y_train == 1, 1], alpha=.8, color='turquoise', label='versicolor')\n",
    "plt.scatter(X_r[y_train == 2, 0], X_r[y_train == 2, 1], alpha=.8, color='darkorange', label='virginica')\n",
    "plt.legend(loc='best', shadow=False, scatterpoints=1)\n",
    "plt.title('LDA of IRIS dataset')\n",
    "\n",
    "plt.show()"
   ]
  },
  {
   "cell_type": "code",
   "execution_count": null,
   "metadata": {
    "id": "NI3B_Q5lkPBo"
   },
   "outputs": [],
   "source": [
    "# Predecimos con el modelo de Análisis discriminante lineal sobre las X test\n",
    "y_test_pred_lda = lda.predict(X_test)"
   ]
  },
  {
   "cell_type": "code",
   "execution_count": null,
   "metadata": {
    "id": "ld7QmD9ikPBo",
    "outputId": "dc17e3b5-999a-48aa-9bea-90822a3f00c3"
   },
   "outputs": [],
   "source": [
    "accuracy_lda = accuracy_score(y_test, y_test_pred_lda)\n",
    "print(\"La exactitud del modelo es: %.2f\" %accuracy_lda)"
   ]
  },
  {
   "cell_type": "code",
   "execution_count": null,
   "metadata": {},
   "outputs": [],
   "source": [
    "confusion_matrix(y_test_pred_lda,y_test)"
   ]
  },
  {
   "cell_type": "markdown",
   "metadata": {
    "id": "dQKS6N3LkPBo"
   },
   "source": [
    "### KNN\n",
    "[KNeighborsClassifier()](https://scikit-learn.org/stable/modules/generated/sklearn.neighbors.KNeighborsClassifier.html?highlight=kneighborsclassifier#sklearn.neighbors.KNeighborsClassifier): Clasificador de vecinos más cercanos\n",
    "\n",
    "A continuación veremos un ejemplo de clasificación de las flores en la base de datos iris nuevamente y probaremos ajustando el parámetro k (cantidad de vecinos) para obtener el modelo con mayor precisión\n",
    "\n",
    "Fuente: [MachineLearning — KNN using scikit-learn](https://towardsdatascience.com/knn-using-scikit-learn-c6bed765be75)"
   ]
  },
  {
   "cell_type": "code",
   "execution_count": null,
   "metadata": {
    "id": "H3SBfD-nkPBo"
   },
   "outputs": [],
   "source": [
    "# Vamos a probar con distintos tamaños de k (cantidad de vecinos)\n",
    "k_range = range(1,10)\n",
    "scores = {}      # Para guardar la accuracy en un diccionario\n",
    "scores_list = [] # Para guardar la accuracy en una lista\n",
    "for k in k_range:\n",
    "        knn = KNeighborsClassifier(n_neighbors=k)\n",
    "        knn.fit(X_train, y_train)\n",
    "        y_pred_knn = knn.predict(X_test)\n",
    "        scores[k] = accuracy_score(y_test, y_pred_knn)\n",
    "        scores_list.append(accuracy_score(y_test, y_pred_knn))"
   ]
  },
  {
   "cell_type": "code",
   "execution_count": null,
   "metadata": {
    "id": "4vFG6-2FkPBp",
    "outputId": "2cc1875d-7cde-4dde-e3ad-7b57c199f692"
   },
   "outputs": [],
   "source": [
    "# Observemos el diccionario con las métricas\n",
    "scores"
   ]
  },
  {
   "cell_type": "code",
   "execution_count": null,
   "metadata": {
    "id": "XuHyhYbNkPBp",
    "outputId": "c9ea5eba-d527-4388-efa3-5a82d3288ef5"
   },
   "outputs": [],
   "source": [
    "%matplotlib inline\n",
    "import matplotlib.pyplot as plt\n",
    "\n",
    "# Graficamos la precisión en base a la cantidad de vecinos\n",
    "plt.plot(k_range, scores_list)\n",
    "plt.xlabel('Value of K for KNN')\n",
    "plt.ylabel('Testing Accuracy')"
   ]
  },
  {
   "cell_type": "markdown",
   "metadata": {
    "id": "mWfxBzLRkPBp"
   },
   "source": [
    "#### Los valores de K entre 3 y 10 tienen la misma precisión, que es 97,77, por lo que podemos usar cualquier valor de esos. Elegiremos K = 3 como nuestro modelo final"
   ]
  },
  {
   "cell_type": "code",
   "execution_count": null,
   "metadata": {
    "id": "cb1HRoz7kPBp",
    "outputId": "6b0abb95-f4ee-4339-c7e8-74811e4b2f57"
   },
   "outputs": [],
   "source": [
    "knn = KNeighborsClassifier(n_neighbors=3)\n",
    "knn.fit(X_train, y_train)\n"
   ]
  },
  {
   "cell_type": "code",
   "execution_count": null,
   "metadata": {
    "id": "REZe3BpGkPBp",
    "outputId": "36e4e17f-4e9a-4a29-a76b-6a11392b0b11"
   },
   "outputs": [],
   "source": [
    "y_test_pred_knn = knn.predict(X_test)\n",
    "accuracy_knn = accuracy_score(y_test, y_test_pred_knn)\n",
    "print(\"La exactitud del modelo es: %.3f\" %accuracy_knn)     "
   ]
  },
  {
   "cell_type": "markdown",
   "metadata": {},
   "source": [
    "#### Otro ejemplo del libro ISLP\n",
    "\n",
    "Vamos a usar datos del S&P Stock Market. \n",
    "Esta base contiene los retornos porcentuales del S&P 500 stock index por 1250 días, desde inicios de 2001 hasta el final de 2005. Para cada fecha, tenemos:\n",
    "- Lag1, Lag2,..., Lag5: retornos porcentuales de cada uno de los días anteriores.\n",
    "- Volume: volumen de acciones negociadas (número de acciones diarias negociadas en miles de millones de dólares)\n",
    "- Today: retorno porcentual de hoy\n",
    "- Direction: variable binaria que toma valores \"Down\" y \"Up\" indicando si el mercado tuvo un retorno positivo o negativo.\n"
   ]
  },
  {
   "cell_type": "code",
   "execution_count": null,
   "metadata": {},
   "outputs": [],
   "source": [
    "!pip install ISLP"
   ]
  },
  {
   "cell_type": "code",
   "execution_count": null,
   "metadata": {},
   "outputs": [],
   "source": [
    "import numpy as np\n",
    "import pandas as pd\n",
    "from matplotlib import pyplot as plt\n",
    "import statsmodels.api as sm\n",
    "from ISLP import load_data\n",
    "\n",
    "from sklearn.discriminant_analysis import LinearDiscriminantAnalysis as LDA\n",
    "from sklearn.neighbors import KNeighborsClassifier\n",
    "from sklearn.linear_model import LogisticRegression\n",
    "\n",
    "from sklearn.model_selection import train_test_split\n",
    "from sklearn.metrics import confusion_matrix\n",
    "from sklearn.metrics import accuracy_score \n",
    "from sklearn.metrics import roc_curve, roc_auc_score, RocCurveDisplay"
   ]
  },
  {
   "cell_type": "code",
   "execution_count": null,
   "metadata": {},
   "outputs": [],
   "source": [
    "# Cargamos los datos de Smarket.\n",
    "smarket = load_data('Smarket')\n",
    "smarket"
   ]
  },
  {
   "cell_type": "code",
   "execution_count": null,
   "metadata": {},
   "outputs": [],
   "source": [
    "print(smarket.head(5))\n",
    "print('\\nColumnas:\\n', smarket.columns)"
   ]
  },
  {
   "cell_type": "code",
   "execution_count": null,
   "metadata": {},
   "outputs": [],
   "source": [
    "smarket.corr(numeric_only=True) # con la opcion numeric_only=True hacemo que no tenga en cuenta Direction (string)"
   ]
  },
  {
   "cell_type": "code",
   "execution_count": null,
   "metadata": {},
   "outputs": [],
   "source": [
    "smarket.plot(y='Volume', linewidth=.5)"
   ]
  },
  {
   "cell_type": "code",
   "execution_count": null,
   "metadata": {},
   "outputs": [],
   "source": [
    "print(smarket['Direction'].value_counts())\n",
    "\n",
    "print(smarket.groupby('Direction').mean())"
   ]
  },
  {
   "cell_type": "markdown",
   "metadata": {},
   "source": [
    "Vamos a usar el modelo de **regresión logística** para predicir 'Direction' usando los lags 1 a 5 y Volume. "
   ]
  },
  {
   "cell_type": "code",
   "execution_count": null,
   "metadata": {},
   "outputs": [],
   "source": [
    "y = smarket['Direction']\n",
    "y = y.replace('Up', 1)\n",
    "y = y.replace('Down', 0)\n",
    " \n",
    "X = smarket[['Lag1', 'Lag2', 'Lag3', 'Lag4', 'Lag5', 'Volume']]\n",
    "X = sm.add_constant(X)"
   ]
  },
  {
   "cell_type": "code",
   "execution_count": null,
   "metadata": {},
   "outputs": [],
   "source": [
    "logit_model = sm.Logit(y.astype(float),X.astype(float))\n",
    "result = logit_model.fit()\n",
    "print(result.summary2())"
   ]
  },
  {
   "cell_type": "markdown",
   "metadata": {},
   "source": [
    "El signo negativo del coeficiente Lag1 indicaría que si el mercado ayer tuvo un retorno positvo es menos probable que hoy lo tenga. Sin embargo, los pvalores son altos, por los que no hay evidencia de una asociación fuerte entre las variables y el output "
   ]
  },
  {
   "cell_type": "code",
   "execution_count": null,
   "metadata": {},
   "outputs": [],
   "source": [
    "y_new = result.predict(X) \n",
    "# Usamos todos los datos para estimar el modelo. Probabilidad del que índice S&P suba, para cada uno de los días\n",
    "\n",
    "# Clasificador de Bayes\n",
    "y_new = np.where(y_new>0.5, 1, y_new)\n",
    "y_new = np.where(y_new<=0.5, 0, y_new)\n"
   ]
  },
  {
   "cell_type": "code",
   "execution_count": null,
   "metadata": {},
   "outputs": [],
   "source": [
    "conf_mat = confusion_matrix(y, y_new) #Python pone en las filas las Y y en las columnas las Y hat (y predichas)\n",
    "\n",
    "print('Confusion Matrix:\\n', conf_mat) \n",
    "print('Accuracy Score:',accuracy_score(y, y_new)) # Cantidad de (vp+vn) sobre total\n",
    "# Acá, la matriz de confusión tiene en las filas los valores ciertos y en las columnas los valores predichos"
   ]
  },
  {
   "cell_type": "code",
   "execution_count": null,
   "metadata": {},
   "outputs": [],
   "source": [
    "auc = roc_auc_score(y, y_new) #Area under curve\n",
    "print('AUC: %.2f' % auc)\n",
    "fpr, tpr, thresholds = roc_curve(y, y_new)"
   ]
  },
  {
   "cell_type": "code",
   "execution_count": null,
   "metadata": {},
   "outputs": [],
   "source": [
    "display = RocCurveDisplay(fpr=fpr, tpr=tpr, roc_auc=auc, estimator_name='Reg_log')\n",
    "display.plot()  \n",
    "plt.plot([0, 1], [0, 1], color='red', linestyle='--')\n",
    "plt.show() "
   ]
  },
  {
   "cell_type": "markdown",
   "metadata": {},
   "source": [
    "A primera vista, pareciera que la regresión logística funciona apenas mejor que adivinar al azar"
   ]
  },
  {
   "cell_type": "code",
   "execution_count": null,
   "metadata": {},
   "outputs": [],
   "source": [
    "# Repetimos pero partiendo la base entre train y test:\n",
    "train = smarket[smarket.Year < 2005]\n",
    "test = smarket[smarket.Year >= 2005]\n",
    "    \n",
    "ytrain = train['Direction']\n",
    "ytrain = ytrain.replace('Up', 1)\n",
    "ytrain = ytrain.replace('Down', 0) \n",
    "\n",
    "ytest = test['Direction']\n",
    "ytest = ytest.replace('Up', 1)\n",
    "ytest = ytest.replace('Down', 0)\n",
    "\n",
    "Xtrain = train[['Lag1', 'Lag2', 'Lag3', 'Lag4', 'Lag5', 'Volume']]\n",
    "Xtrain = sm.add_constant(Xtrain) \n",
    "\n",
    "Xtest = test[['Lag1', 'Lag2', 'Lag3', 'Lag4', 'Lag5', 'Volume']]\n",
    "Xtest = sm.add_constant(Xtest)"
   ]
  },
  {
   "cell_type": "code",
   "execution_count": null,
   "metadata": {},
   "outputs": [],
   "source": [
    "# Regresión logística\n",
    "logit_model = sm.Logit(ytrain.astype(float),Xtrain.astype(float))\n",
    "results = logit_model.fit()\n",
    "print(results.summary2())\n",
    "\n",
    "# Probabilidades predichas\n",
    "y_pred = results.predict(Xtest)\n",
    "\n",
    "# Clasificador de Bayes\n",
    "y_pred=np.where(y_pred>0.5, 1, y_pred)\n",
    "y_pred=np.where(y_pred<=0.5, 0, y_pred)\n",
    "\n",
    "# Matriz de confusión\n",
    "conf_mat = confusion_matrix(ytest, y_pred) \n",
    "\n",
    "print('Confusion Matrix:\\n', conf_mat) \n",
    "print('Accuracy Score:',accuracy_score(ytest, y_pred)) # Cantidad de (vp+vn) sobre total\n",
    "# Recordar: acá la matriz de confusión tiene en las filas los valores ciertos y en las columnas los valores predichos"
   ]
  },
  {
   "cell_type": "markdown",
   "metadata": {},
   "source": [
    "También vamos a usar LDA"
   ]
  },
  {
   "cell_type": "code",
   "execution_count": null,
   "metadata": {},
   "outputs": [],
   "source": [
    "# LDA\n",
    "lda = LDA()\n",
    "lda.fit(Xtrain, ytrain)\n",
    "results_lda = lda.predict(Xtest)\n",
    "\n",
    "# Probabilidades\n",
    "y_pred_lda = pd.Series(results_lda.tolist())\n",
    "\n",
    "# Matriz de resultados\n",
    "conf_mat2 = confusion_matrix(ytest, y_pred_lda)\n",
    "print(conf_mat2)   "
   ]
  },
  {
   "cell_type": "code",
   "execution_count": null,
   "metadata": {},
   "outputs": [],
   "source": [
    "# AUC y ROC\n",
    "auc = roc_auc_score(ytest, y_pred_lda)\n",
    "print('AUC LDA: %.2f' % auc)\n",
    "fpr, tpr, thresholds = roc_curve(ytest, y_pred_lda)\n",
    "\n",
    "display = RocCurveDisplay(fpr=fpr, tpr=tpr, roc_auc=auc, estimator_name='LDA')\n",
    "display.plot()  \n",
    "plt.plot([0, 1], [0, 1], color='red', linestyle='--')\n",
    "plt.show() "
   ]
  },
  {
   "cell_type": "code",
   "execution_count": null,
   "metadata": {},
   "outputs": [],
   "source": [
    "auc_lda = roc_auc_score(ytest, y_pred_lda)\n",
    "print('AUC LDA: %.2f' % auc_lda)\n",
    "fpr, tpr, thresholds = roc_curve(ytest, y_pred_lda)\n"
   ]
  },
  {
   "cell_type": "markdown",
   "metadata": {},
   "source": [
    "### Analisis discriminantes Cuadrático\n",
    "Seguimos el ejemplo de predecir las subas (*Up*) y bajas (*Down*)"
   ]
  },
  {
   "cell_type": "code",
   "execution_count": null,
   "metadata": {},
   "outputs": [],
   "source": [
    "from sklearn.discriminant_analysis import QuadraticDiscriminantAnalysis as QDA"
   ]
  },
  {
   "cell_type": "code",
   "execution_count": null,
   "metadata": {},
   "outputs": [],
   "source": [
    "qda = QDA() \n",
    "qda.fit(Xtrain, ytrain)\n",
    "results_qda = qda.predict(Xtest)"
   ]
  },
  {
   "cell_type": "code",
   "execution_count": null,
   "metadata": {},
   "outputs": [],
   "source": [
    "# Probabilidades\n",
    "y_pred_qda = pd.Series(results_qda.tolist())\n",
    "\n",
    "# Matriz de resultados\n",
    "conf_mat3 = confusion_matrix(ytest, y_pred_qda)\n",
    "print(conf_mat3)   "
   ]
  },
  {
   "cell_type": "code",
   "execution_count": null,
   "metadata": {},
   "outputs": [],
   "source": [
    "# AUC y ROC\n",
    "auc = roc_auc_score(ytest, y_pred_qda)\n",
    "print('AUC QDA: %.2f' % auc)\n",
    "fpr, tpr, thresholds = roc_curve(ytest, y_pred_qda)\n",
    "\n",
    "display = RocCurveDisplay(fpr=fpr, tpr=tpr, roc_auc=auc, estimator_name='QDA')\n",
    "display.plot()  \n",
    "plt.plot([0, 1], [0, 1], color='red', linestyle='--')\n",
    "plt.show() "
   ]
  },
  {
   "cell_type": "markdown",
   "metadata": {},
   "source": [
    "### Naive Bayes\n",
    "También podemos hacer la predicción de $Pr(Y=k|X)$ y la regla de Bayes, levantando el supuesto de normalidad de $X|Y$, pero haciendo el supuesto de independencia de $X$. Implementamos la funcion [GaussianNB()](https://scikit-learn.org/dev/modules/generated/sklearn.naive_bayes.GaussianNB.html), para el modelo de clasificador de Naive Bayes, pero también podriamos estimar las densidades con metodo de Kernels.  \n",
    "\n"
   ]
  },
  {
   "cell_type": "code",
   "execution_count": null,
   "metadata": {},
   "outputs": [],
   "source": [
    "from sklearn.naive_bayes import GaussianNB"
   ]
  },
  {
   "cell_type": "code",
   "execution_count": null,
   "metadata": {},
   "outputs": [],
   "source": [
    "NB = GaussianNB() \n",
    "NB.fit(Xtrain, ytrain)"
   ]
  },
  {
   "cell_type": "code",
   "execution_count": null,
   "metadata": {},
   "outputs": [],
   "source": [
    "y_pred_nb= NB.predict(Xtest) \n",
    "\n",
    "# Matriz de resultados\n",
    "conf_mat4 = confusion_matrix(ytest, y_pred_nb)\n",
    "print(conf_mat4)  "
   ]
  },
  {
   "cell_type": "code",
   "execution_count": null,
   "metadata": {},
   "outputs": [],
   "source": [
    "# AUC y ROC\n",
    "auc = roc_auc_score(ytest, y_pred_nb)\n",
    "print('AUC QDA: %.2f' % auc)\n",
    "fpr, tpr, thresholds = roc_curve(ytest, y_pred_nb)\n",
    "\n",
    "display = RocCurveDisplay(fpr=fpr, tpr=tpr, roc_auc=auc, estimator_name='Naive Bayes')\n",
    "display.plot()  \n",
    "plt.plot([0, 1], [0, 1], color='red', linestyle='--')\n",
    "plt.show() "
   ]
  }
 ],
 "metadata": {
  "colab": {
   "provenance": []
  },
  "kernelspec": {
   "display_name": "Python 3 (ipykernel)",
   "language": "python",
   "name": "python3"
  },
  "language_info": {
   "codemirror_mode": {
    "name": "ipython",
    "version": 3
   },
   "file_extension": ".py",
   "mimetype": "text/x-python",
   "name": "python",
   "nbconvert_exporter": "python",
   "pygments_lexer": "ipython3",
   "version": "3.11.7"
  }
 },
 "nbformat": 4,
 "nbformat_minor": 4
}
